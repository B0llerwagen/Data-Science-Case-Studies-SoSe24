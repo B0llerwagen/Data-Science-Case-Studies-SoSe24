{
 "cells": [
  {
   "cell_type": "code",
   "execution_count": 1,
   "metadata": {
    "ExecuteTime": {
     "end_time": "2024-06-21T15:11:36.996330Z",
     "start_time": "2024-06-21T15:11:36.990387Z"
    }
   },
   "outputs": [
    {
     "name": "stdout",
     "output_type": "stream",
     "text": [
      "<class 'pandas.core.frame.DataFrame'>\n",
      "RangeIndex: 3372 entries, 0 to 3371\n",
      "Data columns (total 9 columns):\n",
      " #   Column      Non-Null Count  Dtype \n",
      "---  ------      --------------  ----- \n",
      " 0   Image_name  3372 non-null   object\n",
      " 1   Rule1       3372 non-null   int64 \n",
      " 2   Rule2       3372 non-null   int64 \n",
      " 3   Rule3       3372 non-null   int64 \n",
      " 4   Rule4       3372 non-null   int64 \n",
      " 5   Rule5       3372 non-null   int64 \n",
      " 6   Rule6       3372 non-null   int64 \n",
      " 7   Rule7       3372 non-null   int64 \n",
      " 8   Rule8       3372 non-null   int64 \n",
      "dtypes: int64(8), object(1)\n",
      "memory usage: 237.2+ KB\n"
     ]
    }
   ],
   "source": [
    "#load data\n",
    "import pandas as pd\n",
    "\n",
    "labels = pd.read_csv('../labels.csv', header=0, sep=';')\n",
    "#print(labels.head())\n",
    "labels.info()"
   ]
  },
  {
   "cell_type": "code",
   "execution_count": 2,
   "metadata": {
    "ExecuteTime": {
     "end_time": "2024-06-21T15:11:37.000690Z",
     "start_time": "2024-06-21T15:11:36.997248Z"
    }
   },
   "outputs": [
    {
     "name": "stdout",
     "output_type": "stream",
     "text": [
      "<class 'pandas.core.frame.DataFrame'>\n",
      "RangeIndex: 3372 entries, 0 to 3371\n",
      "Data columns (total 9 columns):\n",
      " #   Column      Non-Null Count  Dtype \n",
      "---  ------      --------------  ----- \n",
      " 0   Image_name  3372 non-null   object\n",
      " 1   Rule1       3372 non-null   int64 \n",
      " 2   Rule2       3372 non-null   int64 \n",
      " 3   Rule3       3372 non-null   int64 \n",
      " 4   Rule4       3372 non-null   int64 \n",
      " 5   Rule5       3372 non-null   int64 \n",
      " 6   Rule6       3372 non-null   int64 \n",
      " 7   Rule7       3372 non-null   int64 \n",
      " 8   Rule8       3372 non-null   int64 \n",
      "dtypes: int64(8), object(1)\n",
      "memory usage: 237.2+ KB\n"
     ]
    }
   ],
   "source": [
    "#labels_no_useless = labels[~labels.apply(lambda x: all(int(rule) == 1 for rule in x[1:]), axis=1)]\n",
    "#remove row with no values\n",
    "\n",
    "labels_no_useless = labels # for now to see if better results / if it can detect useless images\n",
    "\n",
    "labels_no_useless.info()"
   ]
  },
  {
   "cell_type": "code",
   "execution_count": 3,
   "metadata": {
    "ExecuteTime": {
     "end_time": "2024-06-21T15:11:37.023713Z",
     "start_time": "2024-06-21T15:11:37.001411Z"
    }
   },
   "outputs": [
    {
     "name": "stdout",
     "output_type": "stream",
     "text": [
      "<class 'pandas.core.frame.DataFrame'>\n",
      "Index: 24 entries, 12 to 1004\n",
      "Data columns (total 9 columns):\n",
      " #   Column      Non-Null Count  Dtype \n",
      "---  ------      --------------  ----- \n",
      " 0   Image_name  24 non-null     object\n",
      " 1   Rule1       24 non-null     int64 \n",
      " 2   Rule2       24 non-null     int64 \n",
      " 3   Rule3       24 non-null     int64 \n",
      " 4   Rule4       24 non-null     int64 \n",
      " 5   Rule5       24 non-null     int64 \n",
      " 6   Rule6       24 non-null     int64 \n",
      " 7   Rule7       24 non-null     int64 \n",
      " 8   Rule8       24 non-null     int64 \n",
      "dtypes: int64(8), object(1)\n",
      "memory usage: 1.9+ KB\n"
     ]
    }
   ],
   "source": [
    "useless = labels[labels.apply(lambda x: all(int(rule) == 1 for rule in x[1:]), axis=1)]\n",
    "useless.info()"
   ]
  },
  {
   "cell_type": "code",
   "execution_count": 4,
   "metadata": {
    "ExecuteTime": {
     "end_time": "2024-06-21T15:11:37.029640Z",
     "start_time": "2024-06-21T15:11:37.025079Z"
    }
   },
   "outputs": [
    {
     "name": "stdout",
     "output_type": "stream",
     "text": [
      "<class 'pandas.core.frame.DataFrame'>\n",
      "Index: 444 entries, 12 to 1004\n",
      "Data columns (total 2 columns):\n",
      " #   Column      Non-Null Count  Dtype \n",
      "---  ------      --------------  ----- \n",
      " 0   Image_name  444 non-null    object\n",
      " 1   Rule3       444 non-null    int64 \n",
      "dtypes: int64(1), object(1)\n",
      "memory usage: 10.4+ KB\n"
     ]
    }
   ],
   "source": [
    "rule_3 = labels_no_useless[labels_no_useless['Rule3'] == 1]\n",
    "\n",
    "other_rules = labels_no_useless[labels_no_useless['Rule3'] == 0].sample(n=int(rule_3.shape[0]*2), random_state=42)\n",
    "\n",
    "balanced_labels = pd.concat([rule_3, other_rules, useless])\n",
    "\n",
    "balanced_labels= balanced_labels[[\"Image_name\", \"Rule3\"]]\n",
    "\n",
    "balanced_labels.info()"
   ]
  },
  {
   "cell_type": "code",
   "execution_count": 5,
   "metadata": {
    "ExecuteTime": {
     "end_time": "2024-06-21T15:11:37.032567Z",
     "start_time": "2024-06-21T15:11:37.030317Z"
    }
   },
   "outputs": [],
   "source": [
    "balanced_labels.to_csv('../local_data/rule3_balanced_labels.csv', sep=';', index=False)"
   ]
  }
 ],
 "metadata": {
  "kernelspec": {
   "display_name": ".venv",
   "language": "python",
   "name": "python3"
  },
  "language_info": {
   "codemirror_mode": {
    "name": "ipython",
    "version": 3
   },
   "file_extension": ".py",
   "mimetype": "text/x-python",
   "name": "python",
   "nbconvert_exporter": "python",
   "pygments_lexer": "ipython3",
   "version": "3.11.9"
  }
 },
 "nbformat": 4,
 "nbformat_minor": 2
}
