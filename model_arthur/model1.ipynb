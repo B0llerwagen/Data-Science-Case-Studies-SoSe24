{
 "cells": [
  {
   "cell_type": "code",
   "execution_count": 17,
   "metadata": {},
   "outputs": [
    {
     "name": "stdout",
     "output_type": "stream",
     "text": [
      "<class 'pandas.core.frame.DataFrame'>\n",
      "Int64Index: 186 entries, 148 to 934\n",
      "Data columns (total 2 columns):\n",
      " #   Column      Non-Null Count  Dtype \n",
      "---  ------      --------------  ----- \n",
      " 0   Image_name  186 non-null    object\n",
      " 1   Rule8       186 non-null    int64 \n",
      "dtypes: int64(1), object(1)\n",
      "memory usage: 4.4+ KB\n"
     ]
    }
   ],
   "source": [
    "#load data\n",
    "import pandas as pd\n",
    "\n",
    "labels = pd.read_csv('../labels.csv', header=0, sep=';')\n",
    "\n",
    "labels_no_useless = labels[~labels.apply(lambda x: all(int(rule) == 1 for rule in x[1:]), axis=1)]\n",
    "\n",
    "rule_8 = labels_no_useless[labels_no_useless['Rule8'] == 1]\n",
    "\n",
    "other_rules = labels_no_useless[labels_no_useless['Rule8'] == 0].sample(n=rule_8.shape[0]*2, random_state=42)\n",
    "\n",
    "balanced_labels = pd.concat([rule_8, other_rules])\n",
    "\n",
    "balanced_labels= balanced_labels[[\"Image_name\", \"Rule8\"]]\n",
    "\n",
    "balanced_labels.info()\n",
    "\n",
    "balanced_labels.to_csv('../model_arthur/balanced_labels.csv', sep=';', index=False)"
   ]
  },
  {
   "cell_type": "code",
   "execution_count": 1,
   "metadata": {},
   "outputs": [
    {
     "name": "stdout",
     "output_type": "stream",
     "text": [
      "Loaded image 16123749981431c7fd2fd6587308ca6bafd8ae30a87d93a3.jpg with label 0\r"
     ]
    }
   ],
   "source": [
    "import os\n",
    "from PIL import Image\n",
    "import pandas as pd\n",
    "from pandas import read_csv\n",
    "import numpy as np\n",
    "\n",
    "img_folder = \"../Yoio_Park_Proof\"\n",
    "target_size = (512, 512)\n",
    "label_data = read_csv(\"../model_arthur/balanced_labels.csv\", sep=\";\")\n",
    "\n",
    "# Function to load and resize an image\n",
    "def load_image(img_path, target_size):\n",
    "    with Image.open(img_path) as img:\n",
    "        img = img.resize(target_size)\n",
    "        img = img.convert('RGB')  # Ensure image is in RGB format\n",
    "        return np.array(img)\n",
    "\n",
    "# Read images and their corresponding labels\n",
    "image_data = []\n",
    "image_labels = []\n",
    "\n",
    "for idx, row in label_data.iterrows():\n",
    "    img_name = row['Image_name']\n",
    "    img_path = os.path.join(img_folder, img_name)\n",
    "    \n",
    "    if os.path.exists(img_path):\n",
    "        img_array = load_image(img_path, target_size)\n",
    "        image_data.append(img_array)\n",
    "        image_labels.append(row[1])  # Assuming labels are in columns after 'Image'\n",
    "        print(f\"Loaded image {img_name} with label {row[1]}\", end='\\r')\n",
    "    else:\n",
    "        print(f\"Warning: Image {img_name} not found in folder {img_folder}\")\n",
    "\n"
   ]
  },
  {
   "cell_type": "code",
   "execution_count": 2,
   "metadata": {},
   "outputs": [],
   "source": [
    "from sklearn.model_selection import train_test_split\n",
    "\n",
    "X_train, X_test, y_train, y_test = train_test_split(image_data, image_labels, test_size=0.2, random_state=42)\n",
    "\n",
    "X_train = np.array(X_train)\n",
    "X_test = np.array(X_test)\n",
    "y_train = np.array(y_train)\n",
    "y_test = np.array(y_test)"
   ]
  },
  {
   "cell_type": "code",
   "execution_count": 36,
   "metadata": {},
   "outputs": [
    {
     "name": "stdout",
     "output_type": "stream",
     "text": [
      "(38,)\n"
     ]
    }
   ],
   "source": [
    "print(y_test.shape)"
   ]
  },
  {
   "cell_type": "code",
   "execution_count": 37,
   "metadata": {},
   "outputs": [],
   "source": [
    "\n",
    "\n",
    "import pickle\n",
    "\n",
    "with open('../model_arthur/test_img.pickle', 'wb') as f:\n",
    "    pickle.dump((X_test, y_test), f)"
   ]
  },
  {
   "cell_type": "code",
   "execution_count": 38,
   "metadata": {},
   "outputs": [
    {
     "name": "stdout",
     "output_type": "stream",
     "text": [
      "Generated 146 images\r"
     ]
    },
    {
     "ename": "",
     "evalue": "",
     "output_type": "error",
     "traceback": [
      "\u001b[1;31mDer Kernel ist beim Ausführen von Code in der aktuellen Zelle oder einer vorherigen Zelle abgestürzt. \n",
      "\u001b[1;31mBitte überprüfen Sie den Code in der/den Zelle(n), um eine mögliche Fehlerursache zu identifizieren. \n",
      "\u001b[1;31mKlicken Sie <a href='https://aka.ms/vscodeJupyterKernelCrash'>hier</a>, um weitere Informationen zu erhalten. \n",
      "\u001b[1;31mWeitere Informationen finden Sie unter Jupyter <a href='command:jupyter.viewOutput'>Protokoll</a>."
     ]
    }
   ],
   "source": [
    "import tensorflow\n",
    "from tensorflow.keras.preprocessing.image import ImageDataGenerator\n",
    "\n",
    "datagen = ImageDataGenerator(\n",
    "    rotation_range=30,\n",
    "    width_shift_range=0.1,\n",
    "    height_shift_range=0.1,\n",
    "    shear_range=0.2,\n",
    "    horizontal_flip=True,\n",
    "    vertical_flip=True,\n",
    "    zoom_range=0.1,\n",
    "    fill_mode='nearest'\n",
    ")\n",
    "\n",
    "#generate augmented images\n",
    "batches = 1000\n",
    "augmented_images = []\n",
    "augmented_labels = []\n",
    "\n",
    "for i in range(batches):\n",
    "    batch = next(datagen.flow(X_train, y_train, batch_size=1))\n",
    "    augmented_images.append(batch[0][0])\n",
    "    augmented_labels.append(batch[1][0])\n",
    "    print(f\"Generated {i+1} images\", end='\\r')"
   ]
  },
  {
   "cell_type": "code",
   "execution_count": 6,
   "metadata": {},
   "outputs": [
    {
     "name": "stdout",
     "output_type": "stream",
     "text": [
      "248\n"
     ]
    }
   ],
   "source": [
    "# Konvertieren der Listen in numpy Arrays\n",
    "augmented_images = np.array(augmented_images)\n",
    "augmented_labels = np.array(augmented_labels)\n",
    "\n",
    "# Kombinieren der augmentierten Bilder und Labels mit den ursprünglichen Trainingsdaten\n",
    "X_train_augmented = np.concatenate((X_train, augmented_images), axis=0)\n",
    "y_train_augmented = np.concatenate((y_train, augmented_labels), axis=0)\n",
    "\n",
    "print(len(X_train_augmented))"
   ]
  },
  {
   "cell_type": "code",
   "execution_count": 7,
   "metadata": {},
   "outputs": [],
   "source": [
    "import pickle\n",
    "\n",
    "\n",
    "with open('../model_arthur/data_useable.pickle', 'wb') as f:\n",
    "    pickle.dump((X_train_augmented, y_train_augmented), f)\n",
    "\n"
   ]
  },
  {
   "cell_type": "code",
   "execution_count": 16,
   "metadata": {},
   "outputs": [
    {
     "data": {
      "text/plain": [
       "0"
      ]
     },
     "execution_count": 16,
     "metadata": {},
     "output_type": "execute_result"
    }
   ],
   "source": [
    "import pickle\n",
    "import numpy as np\n",
    "\n",
    "# Load the augmented images and labels from the file\n",
    "with open('../model_arthur/data_useable.pickle', 'rb') as f:\n",
    "    augmented_images, augmented_labels = pickle.load(f)\n",
    "\n",
    "\n",
    "augmented_images = np.array(augmented_images)\n",
    "augmented_labels = np.array(augmented_labels)\n",
    "\n",
    "augmented_images.shape"
   ]
  },
  {
   "cell_type": "code",
   "execution_count": 27,
   "metadata": {},
   "outputs": [],
   "source": [
    "import tensorflow as tf\n",
    "from tensorflow.keras.models import Sequential\n",
    "from tensorflow.keras.layers import Conv2D, MaxPooling2D, BatchNormalization, Flatten, Dense, Dropout\n",
    "\n",
    "# Define the CNN model\n",
    "# architecture: conv layer maxpooling batchnorm -> conv layer maxpooling batchnorm -> conv layer maxpooling batchnorm -> fully connected layer -> output layer\n",
    "# output layer is a single neuron with sigmoid activation function\n",
    "# output should be a probability between 0 and 1\n",
    "\n",
    "model = Sequential([\n",
    "    Conv2D(32, (3, 3), activation='relu', input_shape=(512, 512, 3)),\n",
    "    MaxPooling2D((2, 2)),\n",
    "    BatchNormalization(),\n",
    "    \n",
    "    Conv2D(64, (3, 3), activation='relu'),\n",
    "    MaxPooling2D((2, 2)),\n",
    "    BatchNormalization(),\n",
    "\n",
    "    Conv2D(128, (3, 3), activation='relu'),\n",
    "    MaxPooling2D((2, 2)),\n",
    "    BatchNormalization(),\n",
    "\n",
    "    Conv2D(256, (3, 3), activation='relu'),\n",
    "    MaxPooling2D((2, 2)),\n",
    "    BatchNormalization(),\n",
    "\n",
    "    Conv2D(512, (3, 3), activation='relu'),\n",
    "    MaxPooling2D((2, 2)),\n",
    "    BatchNormalization(),\n",
    "\n",
    "    Conv2D(512, (3, 3), activation='relu'),\n",
    "    MaxPooling2D((2, 2)),\n",
    "    BatchNormalization(),\n",
    "\n",
    "    Flatten(),\n",
    "    Dense(512, activation='relu'),\n",
    "    Dropout(0.5),\n",
    "    Dense(2, activation='sigmoid')\n",
    "])"
   ]
  },
  {
   "cell_type": "code",
   "execution_count": 29,
   "metadata": {},
   "outputs": [
    {
     "name": "stdout",
     "output_type": "stream",
     "text": [
      "Model: \"sequential_3\"\n",
      "_________________________________________________________________\n",
      " Layer (type)                Output Shape              Param #   \n",
      "=================================================================\n",
      " conv2d_18 (Conv2D)          (None, 510, 510, 32)      896       \n",
      "                                                                 \n",
      " max_pooling2d_18 (MaxPoolin  (None, 255, 255, 32)     0         \n",
      " g2D)                                                            \n",
      "                                                                 \n",
      " batch_normalization_18 (Bat  (None, 255, 255, 32)     128       \n",
      " chNormalization)                                                \n",
      "                                                                 \n",
      " conv2d_19 (Conv2D)          (None, 253, 253, 64)      18496     \n",
      "                                                                 \n",
      " max_pooling2d_19 (MaxPoolin  (None, 126, 126, 64)     0         \n",
      " g2D)                                                            \n",
      "                                                                 \n",
      " batch_normalization_19 (Bat  (None, 126, 126, 64)     256       \n",
      " chNormalization)                                                \n",
      "                                                                 \n",
      " conv2d_20 (Conv2D)          (None, 124, 124, 128)     73856     \n",
      "                                                                 \n",
      " max_pooling2d_20 (MaxPoolin  (None, 62, 62, 128)      0         \n",
      " g2D)                                                            \n",
      "                                                                 \n",
      " batch_normalization_20 (Bat  (None, 62, 62, 128)      512       \n",
      " chNormalization)                                                \n",
      "                                                                 \n",
      " conv2d_21 (Conv2D)          (None, 60, 60, 256)       295168    \n",
      "                                                                 \n",
      " max_pooling2d_21 (MaxPoolin  (None, 30, 30, 256)      0         \n",
      " g2D)                                                            \n",
      "                                                                 \n",
      " batch_normalization_21 (Bat  (None, 30, 30, 256)      1024      \n",
      " chNormalization)                                                \n",
      "                                                                 \n",
      " conv2d_22 (Conv2D)          (None, 28, 28, 512)       1180160   \n",
      "                                                                 \n",
      " max_pooling2d_22 (MaxPoolin  (None, 14, 14, 512)      0         \n",
      " g2D)                                                            \n",
      "                                                                 \n",
      " batch_normalization_22 (Bat  (None, 14, 14, 512)      2048      \n",
      " chNormalization)                                                \n",
      "                                                                 \n",
      " conv2d_23 (Conv2D)          (None, 12, 12, 512)       2359808   \n",
      "                                                                 \n",
      " max_pooling2d_23 (MaxPoolin  (None, 6, 6, 512)        0         \n",
      " g2D)                                                            \n",
      "                                                                 \n",
      " batch_normalization_23 (Bat  (None, 6, 6, 512)        2048      \n",
      " chNormalization)                                                \n",
      "                                                                 \n",
      " flatten_3 (Flatten)         (None, 18432)             0         \n",
      "                                                                 \n",
      " dense_6 (Dense)             (None, 512)               9437696   \n",
      "                                                                 \n",
      " dropout_3 (Dropout)         (None, 512)               0         \n",
      "                                                                 \n",
      " dense_7 (Dense)             (None, 2)                 1026      \n",
      "                                                                 \n",
      "=================================================================\n",
      "Total params: 13,373,122\n",
      "Trainable params: 13,370,114\n",
      "Non-trainable params: 3,008\n",
      "_________________________________________________________________\n",
      "Epoch 1/10\n",
      "7/7 [==============================] - 110s 14s/step - loss: 38.3578 - accuracy: 0.5303 - val_loss: 371276.5625 - val_accuracy: 0.6200\n",
      "Epoch 2/10\n",
      "7/7 [==============================] - 159s 22s/step - loss: 27.4615 - accuracy: 0.6616 - val_loss: 208888.2656 - val_accuracy: 0.6600\n",
      "Epoch 3/10\n",
      "7/7 [==============================] - 119s 16s/step - loss: 32.1179 - accuracy: 0.6515 - val_loss: 99426.0781 - val_accuracy: 0.6400\n",
      "Epoch 4/10\n",
      "7/7 [==============================] - 103s 15s/step - loss: 34.5206 - accuracy: 0.6616 - val_loss: 36992.6641 - val_accuracy: 0.3400\n",
      "Epoch 5/10\n",
      "7/7 [==============================] - 93s 13s/step - loss: 17.1309 - accuracy: 0.6869 - val_loss: 6653.0298 - val_accuracy: 0.6600\n",
      "Epoch 6/10\n",
      "7/7 [==============================] - 95s 13s/step - loss: 14.3052 - accuracy: 0.7020 - val_loss: 2450.3518 - val_accuracy: 0.6600\n",
      "Epoch 7/10\n",
      "7/7 [==============================] - 103s 15s/step - loss: 11.8203 - accuracy: 0.7222 - val_loss: 1368.5658 - val_accuracy: 0.6600\n",
      "Epoch 8/10\n",
      "7/7 [==============================] - 91s 13s/step - loss: 10.9598 - accuracy: 0.7424 - val_loss: 1227.8834 - val_accuracy: 0.6600\n",
      "Epoch 9/10\n",
      "7/7 [==============================] - 87s 12s/step - loss: 12.9978 - accuracy: 0.7222 - val_loss: 1142.0123 - val_accuracy: 0.7600\n",
      "Epoch 10/10\n",
      "7/7 [==============================] - 79s 11s/step - loss: 8.7137 - accuracy: 0.7172 - val_loss: 1316.6250 - val_accuracy: 0.6200\n"
     ]
    }
   ],
   "source": [
    "from keras.utils import to_categorical\n",
    "\n",
    "from tensorflow.keras.optimizers import Adam\n",
    "\n",
    "model.compile(optimizer=Adam(learning_rate=0.01),\n",
    "              loss='binary_crossentropy',\n",
    "              metrics=['accuracy'])\n",
    "\n",
    "model.summary()\n",
    "\n",
    "history = model.fit(\n",
    "  augmented_images,\n",
    "  to_categorical(augmented_labels),\n",
    "  validation_split=0.2,\n",
    "  epochs=10,\n",
    "  batch_size=32\n",
    "  )\n",
    "\n"
   ]
  },
  {
   "cell_type": "markdown",
   "metadata": {},
   "source": []
  }
 ],
 "metadata": {
  "kernelspec": {
   "display_name": "Python 3",
   "language": "python",
   "name": "python3"
  },
  "language_info": {
   "codemirror_mode": {
    "name": "ipython",
    "version": 3
   },
   "file_extension": ".py",
   "mimetype": "text/x-python",
   "name": "python",
   "nbconvert_exporter": "python",
   "pygments_lexer": "ipython3",
   "version": "3.9.5"
  }
 },
 "nbformat": 4,
 "nbformat_minor": 2
}
