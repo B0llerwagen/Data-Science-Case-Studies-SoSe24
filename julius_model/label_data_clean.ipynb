{
 "cells": [
  {
   "cell_type": "code",
   "execution_count": 3,
   "metadata": {},
   "outputs": [
    {
     "name": "stdout",
     "output_type": "stream",
     "text": [
      "<class 'pandas.core.frame.DataFrame'>\n",
      "RangeIndex: 827 entries, 0 to 826\n",
      "Data columns (total 9 columns):\n",
      " #   Column      Non-Null Count  Dtype \n",
      "---  ------      --------------  ----- \n",
      " 0   Image_name  827 non-null    object\n",
      " 1   Rule1       827 non-null    int64 \n",
      " 2   Rule2       827 non-null    int64 \n",
      " 3   Rule3       827 non-null    int64 \n",
      " 4   Rule4       827 non-null    int64 \n",
      " 5   Rule5       827 non-null    int64 \n",
      " 6   Rule6       827 non-null    int64 \n",
      " 7   Rule7       827 non-null    int64 \n",
      " 8   Rule8       827 non-null    int64 \n",
      "dtypes: int64(8), object(1)\n",
      "memory usage: 58.3+ KB\n"
     ]
    }
   ],
   "source": [
    "#load data\n",
    "import pandas as pd\n",
    "\n",
    "labels = pd.read_csv('../labels.csv', header=0, sep=';')\n",
    "#print(labels.head())\n",
    "labels.info()"
   ]
  },
  {
   "cell_type": "code",
   "execution_count": 4,
   "metadata": {},
   "outputs": [
    {
     "name": "stdout",
     "output_type": "stream",
     "text": [
      "<class 'pandas.core.frame.DataFrame'>\n",
      "Index: 810 entries, 0 to 826\n",
      "Data columns (total 9 columns):\n",
      " #   Column      Non-Null Count  Dtype \n",
      "---  ------      --------------  ----- \n",
      " 0   Image_name  810 non-null    object\n",
      " 1   Rule1       810 non-null    int64 \n",
      " 2   Rule2       810 non-null    int64 \n",
      " 3   Rule3       810 non-null    int64 \n",
      " 4   Rule4       810 non-null    int64 \n",
      " 5   Rule5       810 non-null    int64 \n",
      " 6   Rule6       810 non-null    int64 \n",
      " 7   Rule7       810 non-null    int64 \n",
      " 8   Rule8       810 non-null    int64 \n",
      "dtypes: int64(8), object(1)\n",
      "memory usage: 63.3+ KB\n"
     ]
    }
   ],
   "source": [
    "labels_no_useless = labels[~labels.apply(lambda x: all(int(rule) == 1 for rule in x[1:]), axis=1)]\n",
    "#remove row with no values\n",
    "\n",
    "labels_no_useless.info()"
   ]
  },
  {
   "cell_type": "code",
   "execution_count": 8,
   "metadata": {},
   "outputs": [
    {
     "name": "stdout",
     "output_type": "stream",
     "text": [
      "<class 'pandas.core.frame.DataFrame'>\n",
      "Index: 114 entries, 31 to 451\n",
      "Data columns (total 2 columns):\n",
      " #   Column      Non-Null Count  Dtype \n",
      "---  ------      --------------  ----- \n",
      " 0   Image_name  114 non-null    object\n",
      " 1   Rule5       114 non-null    int64 \n",
      "dtypes: int64(1), object(1)\n",
      "memory usage: 2.7+ KB\n"
     ]
    }
   ],
   "source": [
    "rule_5 = labels_no_useless[labels_no_useless['Rule5'] == 1]\n",
    "\n",
    "other_rules = labels_no_useless[labels_no_useless['Rule5'] == 0].sample(n=rule_5.shape[0], random_state=42)\n",
    "\n",
    "balanced_labels = pd.concat([rule_5, other_rules])\n",
    "\n",
    "balanced_labels= balanced_labels[[\"Image_name\", \"Rule5\"]]\n",
    "\n",
    "balanced_labels.info()"
   ]
  },
  {
   "cell_type": "code",
   "execution_count": 9,
   "metadata": {},
   "outputs": [],
   "source": [
    "balanced_labels.to_csv('../model_julius/balanced_labels.csv', sep=';', index=False)"
   ]
  }
 ],
 "metadata": {
  "kernelspec": {
   "display_name": ".venv",
   "language": "python",
   "name": "python3"
  },
  "language_info": {
   "codemirror_mode": {
    "name": "ipython",
    "version": 3
   },
   "file_extension": ".py",
   "mimetype": "text/x-python",
   "name": "python",
   "nbconvert_exporter": "python",
   "pygments_lexer": "ipython3",
   "version": "3.11.9"
  }
 },
 "nbformat": 4,
 "nbformat_minor": 2
}
