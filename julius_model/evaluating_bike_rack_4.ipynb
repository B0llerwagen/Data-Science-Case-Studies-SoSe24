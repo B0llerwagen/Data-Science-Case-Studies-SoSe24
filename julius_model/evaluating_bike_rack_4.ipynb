{
 "cells": [
  {
   "cell_type": "code",
   "metadata": {
    "ExecuteTime": {
     "end_time": "2024-06-02T16:20:40.665078Z",
     "start_time": "2024-06-02T16:20:40.389247Z"
    }
   },
   "source": [
    "#load model and testing data\n",
    "from tensorflow import keras\n",
    "import pickle\n",
    "\n",
    "model = keras.models.load_model('../julius_model/model_bike_rack_1.h5')\n",
    "\n",
    "with open('../model_julius/test_data.pkl', 'rb') as f:\n",
    "    X_test, y_test = pickle.load(f)"
   ],
   "outputs": [
    {
     "name": "stderr",
     "output_type": "stream",
     "text": [
      "WARNING:absl:Compiled the loaded model, but the compiled metrics have yet to be built. `model.compile_metrics` will be empty until you train or evaluate the model.\n"
     ]
    }
   ],
   "execution_count": 11
  },
  {
   "cell_type": "code",
   "metadata": {
    "ExecuteTime": {
     "end_time": "2024-06-02T16:20:41.002330Z",
     "start_time": "2024-06-02T16:20:40.667435Z"
    }
   },
   "source": [
    "import numpy as np\n",
    "from keras.utils import to_categorical\n",
    "predictions = model.predict(X_test)\n",
    "predicted_classes = np.argmax(predictions, axis=1)\n",
    "\n",
    "y_test = to_categorical(y_test, num_classes=2)\n",
    "\n",
    "from sklearn.metrics import classification_report\n",
    "\n",
    "print(classification_report(np.argmax(y_test, axis=1), predicted_classes))"
   ],
   "outputs": [
    {
     "ename": "ValueError",
     "evalue": "Exception encountered when calling Sequential.call().\n\n\u001B[1mInvalid input shape for input Tensor(\"sequential_3_1/Cast:0\", shape=(32, 512, 3), dtype=float32). Expected shape (None, 512, 512, 3), but input has incompatible shape (32, 512, 3)\u001B[0m\n\nArguments received by Sequential.call():\n  • inputs=('tf.Tensor(shape=(32, 512, 3), dtype=uint8)', 'tf.Tensor(shape=(32, 512, 3), dtype=uint8)', 'tf.Tensor(shape=(32, 512, 3), dtype=uint8)', 'tf.Tensor(shape=(32, 512, 3), dtype=uint8)', 'tf.Tensor(shape=(32, 512, 3), dtype=uint8)', 'tf.Tensor(shape=(32, 512, 3), dtype=uint8)', 'tf.Tensor(shape=(32, 512, 3), dtype=uint8)', 'tf.Tensor(shape=(32, 512, 3), dtype=uint8)', 'tf.Tensor(shape=(32, 512, 3), dtype=uint8)', 'tf.Tensor(shape=(32, 512, 3), dtype=uint8)', 'tf.Tensor(shape=(32, 512, 3), dtype=uint8)', 'tf.Tensor(shape=(32, 512, 3), dtype=uint8)', 'tf.Tensor(shape=(32, 512, 3), dtype=uint8)', 'tf.Tensor(shape=(32, 512, 3), dtype=uint8)', 'tf.Tensor(shape=(32, 512, 3), dtype=uint8)', 'tf.Tensor(shape=(32, 512, 3), dtype=uint8)', 'tf.Tensor(shape=(32, 512, 3), dtype=uint8)', 'tf.Tensor(shape=(32, 512, 3), dtype=uint8)', 'tf.Tensor(shape=(32, 512, 3), dtype=uint8)', 'tf.Tensor(shape=(32, 512, 3), dtype=uint8)', 'tf.Tensor(shape=(32, 512, 3), dtype=uint8)', 'tf.Tensor(shape=(32, 512, 3), dtype=uint8)', 'tf.Tensor(shape=(32, 512, 3), dtype=uint8)', 'tf.Tensor(shape=(32, 512, 3), dtype=uint8)', 'tf.Tensor(shape=(32, 512, 3), dtype=uint8)', 'tf.Tensor(shape=(32, 512, 3), dtype=uint8)', 'tf.Tensor(shape=(32, 512, 3), dtype=uint8)', 'tf.Tensor(shape=(32, 512, 3), dtype=uint8)', 'tf.Tensor(shape=(32, 512, 3), dtype=uint8)', 'tf.Tensor(shape=(32, 512, 3), dtype=uint8)', 'tf.Tensor(shape=(32, 512, 3), dtype=uint8)', 'tf.Tensor(shape=(32, 512, 3), dtype=uint8)', 'tf.Tensor(shape=(32, 512, 3), dtype=uint8)', 'tf.Tensor(shape=(32, 512, 3), dtype=uint8)', 'tf.Tensor(shape=(32, 512, 3), dtype=uint8)', 'tf.Tensor(shape=(32, 512, 3), dtype=uint8)', 'tf.Tensor(shape=(32, 512, 3), dtype=uint8)', 'tf.Tensor(shape=(32, 512, 3), dtype=uint8)', 'tf.Tensor(shape=(32, 512, 3), dtype=uint8)', 'tf.Tensor(shape=(32, 512, 3), dtype=uint8)', 'tf.Tensor(shape=(32, 512, 3), dtype=uint8)', 'tf.Tensor(shape=(32, 512, 3), dtype=uint8)', 'tf.Tensor(shape=(32, 512, 3), dtype=uint8)', 'tf.Tensor(shape=(32, 512, 3), dtype=uint8)', 'tf.Tensor(shape=(32, 512, 3), dtype=uint8)', 'tf.Tensor(shape=(32, 512, 3), dtype=uint8)', 'tf.Tensor(shape=(32, 512, 3), dtype=uint8)', 'tf.Tensor(shape=(32, 512, 3), dtype=uint8)', 'tf.Tensor(shape=(32, 512, 3), dtype=uint8)', 'tf.Tensor(shape=(32, 512, 3), dtype=uint8)', 'tf.Tensor(shape=(32, 512, 3), dtype=uint8)', 'tf.Tensor(shape=(32, 512, 3), dtype=uint8)', 'tf.Tensor(shape=(32, 512, 3), dtype=uint8)', 'tf.Tensor(shape=(32, 512, 3), dtype=uint8)', 'tf.Tensor(shape=(32, 512, 3), dtype=uint8)', 'tf.Tensor(shape=(32, 512, 3), dtype=uint8)', 'tf.Tensor(shape=(32, 512, 3), dtype=uint8)', 'tf.Tensor(shape=(32, 512, 3), dtype=uint8)', 'tf.Tensor(shape=(32, 512, 3), dtype=uint8)', 'tf.Tensor(shape=(32, 512, 3), dtype=uint8)', 'tf.Tensor(shape=(32, 512, 3), dtype=uint8)', 'tf.Tensor(shape=(32, 512, 3), dtype=uint8)', 'tf.Tensor(shape=(32, 512, 3), dtype=uint8)', 'tf.Tensor(shape=(32, 512, 3), dtype=uint8)', 'tf.Tensor(shape=(32, 512, 3), dtype=uint8)', 'tf.Tensor(shape=(32, 512, 3), dtype=uint8)', 'tf.Tensor(shape=(32, 512, 3), dtype=uint8)', 'tf.Tensor(shape=(32, 512, 3), dtype=uint8)', 'tf.Tensor(shape=(32, 512, 3), dtype=uint8)', 'tf.Tensor(shape=(32, 512, 3), dtype=uint8)', 'tf.Tensor(shape=(32, 512, 3), dtype=uint8)', 'tf.Tensor(shape=(32, 512, 3), dtype=uint8)', 'tf.Tensor(shape=(32, 512, 3), dtype=uint8)', 'tf.Tensor(shape=(32, 512, 3), dtype=uint8)', 'tf.Tensor(shape=(32, 512, 3), dtype=uint8)', 'tf.Tensor(shape=(32, 512, 3), dtype=uint8)', 'tf.Tensor(shape=(32, 512, 3), dtype=uint8)', 'tf.Tensor(shape=(32, 512, 3), dtype=uint8)')\n  • training=False\n  • mask=('None', 'None', 'None', 'None', 'None', 'None', 'None', 'None', 'None', 'None', 'None', 'None', 'None', 'None', 'None', 'None', 'None', 'None', 'None', 'None', 'None', 'None', 'None', 'None', 'None', 'None', 'None', 'None', 'None', 'None', 'None', 'None', 'None', 'None', 'None', 'None', 'None', 'None', 'None', 'None', 'None', 'None', 'None', 'None', 'None', 'None', 'None', 'None', 'None', 'None', 'None', 'None', 'None', 'None', 'None', 'None', 'None', 'None', 'None', 'None', 'None', 'None', 'None', 'None', 'None', 'None', 'None', 'None', 'None', 'None', 'None', 'None', 'None', 'None', 'None', 'None', 'None', 'None')",
     "output_type": "error",
     "traceback": [
      "\u001B[0;31m---------------------------------------------------------------------------\u001B[0m",
      "\u001B[0;31mValueError\u001B[0m                                Traceback (most recent call last)",
      "Cell \u001B[0;32mIn[12], line 3\u001B[0m\n\u001B[1;32m      1\u001B[0m \u001B[38;5;28;01mimport\u001B[39;00m \u001B[38;5;21;01mnumpy\u001B[39;00m \u001B[38;5;28;01mas\u001B[39;00m \u001B[38;5;21;01mnp\u001B[39;00m\n\u001B[1;32m      2\u001B[0m \u001B[38;5;28;01mfrom\u001B[39;00m \u001B[38;5;21;01mkeras\u001B[39;00m\u001B[38;5;21;01m.\u001B[39;00m\u001B[38;5;21;01mutils\u001B[39;00m \u001B[38;5;28;01mimport\u001B[39;00m to_categorical\n\u001B[0;32m----> 3\u001B[0m predictions \u001B[38;5;241m=\u001B[39m \u001B[43mmodel\u001B[49m\u001B[38;5;241;43m.\u001B[39;49m\u001B[43mpredict\u001B[49m\u001B[43m(\u001B[49m\u001B[43mX_test\u001B[49m\u001B[43m)\u001B[49m\n\u001B[1;32m      4\u001B[0m predicted_classes \u001B[38;5;241m=\u001B[39m np\u001B[38;5;241m.\u001B[39margmax(predictions, axis\u001B[38;5;241m=\u001B[39m\u001B[38;5;241m1\u001B[39m)\n\u001B[1;32m      6\u001B[0m y_test \u001B[38;5;241m=\u001B[39m to_categorical(y_test, num_classes\u001B[38;5;241m=\u001B[39m\u001B[38;5;241m2\u001B[39m)\n",
      "File \u001B[0;32m/Library/Python/3.9/site-packages/keras/src/utils/traceback_utils.py:122\u001B[0m, in \u001B[0;36mfilter_traceback.<locals>.error_handler\u001B[0;34m(*args, **kwargs)\u001B[0m\n\u001B[1;32m    119\u001B[0m     filtered_tb \u001B[38;5;241m=\u001B[39m _process_traceback_frames(e\u001B[38;5;241m.\u001B[39m__traceback__)\n\u001B[1;32m    120\u001B[0m     \u001B[38;5;66;03m# To get the full stack trace, call:\u001B[39;00m\n\u001B[1;32m    121\u001B[0m     \u001B[38;5;66;03m# `keras.config.disable_traceback_filtering()`\u001B[39;00m\n\u001B[0;32m--> 122\u001B[0m     \u001B[38;5;28;01mraise\u001B[39;00m e\u001B[38;5;241m.\u001B[39mwith_traceback(filtered_tb) \u001B[38;5;28;01mfrom\u001B[39;00m \u001B[38;5;28;01mNone\u001B[39;00m\n\u001B[1;32m    123\u001B[0m \u001B[38;5;28;01mfinally\u001B[39;00m:\n\u001B[1;32m    124\u001B[0m     \u001B[38;5;28;01mdel\u001B[39;00m filtered_tb\n",
      "File \u001B[0;32m/Library/Python/3.9/site-packages/keras/src/models/functional.py:288\u001B[0m, in \u001B[0;36mFunctional._adjust_input_rank\u001B[0;34m(self, flat_inputs)\u001B[0m\n\u001B[1;32m    286\u001B[0m             adjusted\u001B[38;5;241m.\u001B[39mappend(ops\u001B[38;5;241m.\u001B[39mexpand_dims(x, axis\u001B[38;5;241m=\u001B[39m\u001B[38;5;241m-\u001B[39m\u001B[38;5;241m1\u001B[39m))\n\u001B[1;32m    287\u001B[0m             \u001B[38;5;28;01mcontinue\u001B[39;00m\n\u001B[0;32m--> 288\u001B[0m     \u001B[38;5;28;01mraise\u001B[39;00m \u001B[38;5;167;01mValueError\u001B[39;00m(\n\u001B[1;32m    289\u001B[0m         \u001B[38;5;124mf\u001B[39m\u001B[38;5;124m\"\u001B[39m\u001B[38;5;124mInvalid input shape for input \u001B[39m\u001B[38;5;132;01m{\u001B[39;00mx\u001B[38;5;132;01m}\u001B[39;00m\u001B[38;5;124m. Expected shape \u001B[39m\u001B[38;5;124m\"\u001B[39m\n\u001B[1;32m    290\u001B[0m         \u001B[38;5;124mf\u001B[39m\u001B[38;5;124m\"\u001B[39m\u001B[38;5;132;01m{\u001B[39;00mref_shape\u001B[38;5;132;01m}\u001B[39;00m\u001B[38;5;124m, but input has incompatible shape \u001B[39m\u001B[38;5;132;01m{\u001B[39;00mx\u001B[38;5;241m.\u001B[39mshape\u001B[38;5;132;01m}\u001B[39;00m\u001B[38;5;124m\"\u001B[39m\n\u001B[1;32m    291\u001B[0m     )\n\u001B[1;32m    292\u001B[0m \u001B[38;5;66;03m# Add back metadata.\u001B[39;00m\n\u001B[1;32m    293\u001B[0m \u001B[38;5;28;01mfor\u001B[39;00m i \u001B[38;5;129;01min\u001B[39;00m \u001B[38;5;28mrange\u001B[39m(\u001B[38;5;28mlen\u001B[39m(flat_inputs)):\n",
      "\u001B[0;31mValueError\u001B[0m: Exception encountered when calling Sequential.call().\n\n\u001B[1mInvalid input shape for input Tensor(\"sequential_3_1/Cast:0\", shape=(32, 512, 3), dtype=float32). Expected shape (None, 512, 512, 3), but input has incompatible shape (32, 512, 3)\u001B[0m\n\nArguments received by Sequential.call():\n  • inputs=('tf.Tensor(shape=(32, 512, 3), dtype=uint8)', 'tf.Tensor(shape=(32, 512, 3), dtype=uint8)', 'tf.Tensor(shape=(32, 512, 3), dtype=uint8)', 'tf.Tensor(shape=(32, 512, 3), dtype=uint8)', 'tf.Tensor(shape=(32, 512, 3), dtype=uint8)', 'tf.Tensor(shape=(32, 512, 3), dtype=uint8)', 'tf.Tensor(shape=(32, 512, 3), dtype=uint8)', 'tf.Tensor(shape=(32, 512, 3), dtype=uint8)', 'tf.Tensor(shape=(32, 512, 3), dtype=uint8)', 'tf.Tensor(shape=(32, 512, 3), dtype=uint8)', 'tf.Tensor(shape=(32, 512, 3), dtype=uint8)', 'tf.Tensor(shape=(32, 512, 3), dtype=uint8)', 'tf.Tensor(shape=(32, 512, 3), dtype=uint8)', 'tf.Tensor(shape=(32, 512, 3), dtype=uint8)', 'tf.Tensor(shape=(32, 512, 3), dtype=uint8)', 'tf.Tensor(shape=(32, 512, 3), dtype=uint8)', 'tf.Tensor(shape=(32, 512, 3), dtype=uint8)', 'tf.Tensor(shape=(32, 512, 3), dtype=uint8)', 'tf.Tensor(shape=(32, 512, 3), dtype=uint8)', 'tf.Tensor(shape=(32, 512, 3), dtype=uint8)', 'tf.Tensor(shape=(32, 512, 3), dtype=uint8)', 'tf.Tensor(shape=(32, 512, 3), dtype=uint8)', 'tf.Tensor(shape=(32, 512, 3), dtype=uint8)', 'tf.Tensor(shape=(32, 512, 3), dtype=uint8)', 'tf.Tensor(shape=(32, 512, 3), dtype=uint8)', 'tf.Tensor(shape=(32, 512, 3), dtype=uint8)', 'tf.Tensor(shape=(32, 512, 3), dtype=uint8)', 'tf.Tensor(shape=(32, 512, 3), dtype=uint8)', 'tf.Tensor(shape=(32, 512, 3), dtype=uint8)', 'tf.Tensor(shape=(32, 512, 3), dtype=uint8)', 'tf.Tensor(shape=(32, 512, 3), dtype=uint8)', 'tf.Tensor(shape=(32, 512, 3), dtype=uint8)', 'tf.Tensor(shape=(32, 512, 3), dtype=uint8)', 'tf.Tensor(shape=(32, 512, 3), dtype=uint8)', 'tf.Tensor(shape=(32, 512, 3), dtype=uint8)', 'tf.Tensor(shape=(32, 512, 3), dtype=uint8)', 'tf.Tensor(shape=(32, 512, 3), dtype=uint8)', 'tf.Tensor(shape=(32, 512, 3), dtype=uint8)', 'tf.Tensor(shape=(32, 512, 3), dtype=uint8)', 'tf.Tensor(shape=(32, 512, 3), dtype=uint8)', 'tf.Tensor(shape=(32, 512, 3), dtype=uint8)', 'tf.Tensor(shape=(32, 512, 3), dtype=uint8)', 'tf.Tensor(shape=(32, 512, 3), dtype=uint8)', 'tf.Tensor(shape=(32, 512, 3), dtype=uint8)', 'tf.Tensor(shape=(32, 512, 3), dtype=uint8)', 'tf.Tensor(shape=(32, 512, 3), dtype=uint8)', 'tf.Tensor(shape=(32, 512, 3), dtype=uint8)', 'tf.Tensor(shape=(32, 512, 3), dtype=uint8)', 'tf.Tensor(shape=(32, 512, 3), dtype=uint8)', 'tf.Tensor(shape=(32, 512, 3), dtype=uint8)', 'tf.Tensor(shape=(32, 512, 3), dtype=uint8)', 'tf.Tensor(shape=(32, 512, 3), dtype=uint8)', 'tf.Tensor(shape=(32, 512, 3), dtype=uint8)', 'tf.Tensor(shape=(32, 512, 3), dtype=uint8)', 'tf.Tensor(shape=(32, 512, 3), dtype=uint8)', 'tf.Tensor(shape=(32, 512, 3), dtype=uint8)', 'tf.Tensor(shape=(32, 512, 3), dtype=uint8)', 'tf.Tensor(shape=(32, 512, 3), dtype=uint8)', 'tf.Tensor(shape=(32, 512, 3), dtype=uint8)', 'tf.Tensor(shape=(32, 512, 3), dtype=uint8)', 'tf.Tensor(shape=(32, 512, 3), dtype=uint8)', 'tf.Tensor(shape=(32, 512, 3), dtype=uint8)', 'tf.Tensor(shape=(32, 512, 3), dtype=uint8)', 'tf.Tensor(shape=(32, 512, 3), dtype=uint8)', 'tf.Tensor(shape=(32, 512, 3), dtype=uint8)', 'tf.Tensor(shape=(32, 512, 3), dtype=uint8)', 'tf.Tensor(shape=(32, 512, 3), dtype=uint8)', 'tf.Tensor(shape=(32, 512, 3), dtype=uint8)', 'tf.Tensor(shape=(32, 512, 3), dtype=uint8)', 'tf.Tensor(shape=(32, 512, 3), dtype=uint8)', 'tf.Tensor(shape=(32, 512, 3), dtype=uint8)', 'tf.Tensor(shape=(32, 512, 3), dtype=uint8)', 'tf.Tensor(shape=(32, 512, 3), dtype=uint8)', 'tf.Tensor(shape=(32, 512, 3), dtype=uint8)', 'tf.Tensor(shape=(32, 512, 3), dtype=uint8)', 'tf.Tensor(shape=(32, 512, 3), dtype=uint8)', 'tf.Tensor(shape=(32, 512, 3), dtype=uint8)', 'tf.Tensor(shape=(32, 512, 3), dtype=uint8)')\n  • training=False\n  • mask=('None', 'None', 'None', 'None', 'None', 'None', 'None', 'None', 'None', 'None', 'None', 'None', 'None', 'None', 'None', 'None', 'None', 'None', 'None', 'None', 'None', 'None', 'None', 'None', 'None', 'None', 'None', 'None', 'None', 'None', 'None', 'None', 'None', 'None', 'None', 'None', 'None', 'None', 'None', 'None', 'None', 'None', 'None', 'None', 'None', 'None', 'None', 'None', 'None', 'None', 'None', 'None', 'None', 'None', 'None', 'None', 'None', 'None', 'None', 'None', 'None', 'None', 'None', 'None', 'None', 'None', 'None', 'None', 'None', 'None', 'None', 'None', 'None', 'None', 'None', 'None', 'None', 'None')"
     ]
    }
   ],
   "execution_count": 12
  },
  {
   "cell_type": "code",
   "metadata": {
    "ExecuteTime": {
     "end_time": "2024-06-02T16:20:41.003095Z",
     "start_time": "2024-06-02T16:20:41.003045Z"
    }
   },
   "source": [
    "import matplotlib.pyplot as plt\n",
    "import numpy as np\n",
    "\n",
    "# Ensure X_test, y_test, and predicted_classes are defined and accessible in this cell\n",
    "X_test = X_test.astype(np.float32)\n",
    "\n",
    "fig, axes = plt.subplots(3, 3, figsize=(10, 10))\n",
    "for i, ax in enumerate(axes.flat):\n",
    "    idx = np.random.randint(X_test.shape[0])\n",
    "    ax.imshow(X_test[idx])\n",
    "    ax.set_title(f\"Label: {y_test[idx]}, Prediction: {model.predict(X_test[idx][np.newaxis, ...])[0][0]:.2f}\")\n",
    "    ax.axis('off')\n",
    "plt.tight_layout()\n",
    "plt.show()"
   ],
   "outputs": [],
   "execution_count": null
  },
  {
   "metadata": {},
   "cell_type": "code",
   "source": "",
   "outputs": [],
   "execution_count": null
  }
 ],
 "metadata": {
  "kernelspec": {
   "display_name": ".venv",
   "language": "python",
   "name": "python3"
  },
  "language_info": {
   "codemirror_mode": {
    "name": "ipython",
    "version": 3
   },
   "file_extension": ".py",
   "mimetype": "text/x-python",
   "name": "python",
   "nbconvert_exporter": "python",
   "pygments_lexer": "ipython3",
   "version": "3.11.9"
  }
 },
 "nbformat": 4,
 "nbformat_minor": 2
}
