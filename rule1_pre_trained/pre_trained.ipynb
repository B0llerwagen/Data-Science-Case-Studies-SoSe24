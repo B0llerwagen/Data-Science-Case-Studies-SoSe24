{
 "cells": [
  {
   "cell_type": "code",
   "metadata": {
    "ExecuteTime": {
     "end_time": "2024-06-21T13:46:38.738891Z",
     "start_time": "2024-06-21T13:46:33.849567Z"
    }
   },
   "source": [
    "import pickle\n",
    "\n",
    "# Load the augmented images and labels from the file\n",
    "with open('../local_data/data_useable_1.pickle', 'rb') as f:\n",
    "    augmented_images, augmented_labels = pickle.load(f)"
   ],
   "outputs": [],
   "execution_count": 1
  },
  {
   "cell_type": "code",
   "metadata": {
    "ExecuteTime": {
     "end_time": "2024-06-21T13:46:38.758950Z",
     "start_time": "2024-06-21T13:46:38.751900Z"
    }
   },
   "source": [
    "augmented_images.shape, augmented_labels.shape"
   ],
   "outputs": [
    {
     "data": {
      "text/plain": [
       "((2200, 512, 512, 3), (2200, 2))"
      ]
     },
     "execution_count": 2,
     "metadata": {},
     "output_type": "execute_result"
    }
   ],
   "execution_count": 2
  },
  {
   "cell_type": "code",
   "metadata": {
    "ExecuteTime": {
     "end_time": "2024-06-21T13:48:10.384588Z",
     "start_time": "2024-06-21T13:46:38.760288Z"
    }
   },
   "source": [
    "import tensorflow as tf\n",
    "import numpy as np\n",
    "\n",
    "augmented_images = np.array(augmented_images, dtype=np.float32)\n",
    "augmented_labels = np.array(augmented_labels, dtype=np.int32)\n",
    "\n",
    "from sklearn.model_selection import train_test_split\n",
    "\n",
    "X_train, X_val, y_train, y_val = train_test_split(augmented_images, augmented_labels, test_size=0.2, random_state=42)"
   ],
   "outputs": [],
   "execution_count": 3
  },
  {
   "cell_type": "code",
   "metadata": {},
   "source": [
    "X_train.shape, y_train.shape, X_val.shape, y_val.shape"
   ],
   "outputs": [
    {
     "data": {
      "text/plain": [
       "((1760, 512, 512, 3), (1760, 2), (440, 512, 512, 3), (440, 2))"
      ]
     },
     "execution_count": 4,
     "metadata": {},
     "output_type": "execute_result"
    }
   ],
   "execution_count": 4
  },
  {
   "cell_type": "code",
   "metadata": {
    "ExecuteTime": {
     "end_time": "2024-06-21T13:48:10.810141Z",
     "start_time": "2024-06-21T13:48:10.392802Z"
    }
   },
   "source": [
    "import tensorflow as tf\n",
    "from tensorflow.keras.applications.mobilenet_v2 import MobileNetV2\n",
    "from tensorflow.keras.layers import Dense, Dropout, Conv2D, MaxPooling2D, Normalization, Flatten\n",
    "from tensorflow.keras.models import Model\n",
    "\n",
    "base_model = MobileNetV2(input_shape=(512, 512, 3), include_top=False, weights='imagenet')\n",
    "\n",
    "base_model.trainable = False\n",
    "\n",
    "x = base_model.output\n",
    "x = Conv2D(512, (3, 3), activation='relu')(x)\n",
    "x = MaxPooling2D((2, 2))(x)\n",
    "x = Normalization()(x)\n",
    "\n",
    "x = Conv2D(512, (3, 3), activation='relu')(x)\n",
    "x = MaxPooling2D((2, 2))(x)\n",
    "x = Normalization()(x)\n",
    "x = Flatten()(x)\n",
    "\n",
    "x = Dense(512, activation='relu')(x)\n",
    "x = Dropout(0.5)(x)\n",
    "predictions = Dense(2, activation='softmax')(x)\n",
    "\n",
    "model = Model(inputs=base_model.input, outputs=predictions)"
   ],
   "outputs": [
    {
     "name": "stderr",
     "output_type": "stream",
     "text": [
      "/var/folders/qx/nn7p1qjs7xg_z1q9j7km_bv80000gn/T/ipykernel_11579/1369170771.py:6: UserWarning: `input_shape` is undefined or non-square, or `rows` is not in [96, 128, 160, 192, 224]. Weights for input shape (224, 224) will be loaded as the default.\n",
      "  base_model = MobileNetV2(input_shape=(512, 512, 3), include_top=False, weights='imagenet')\n"
     ]
    }
   ],
   "execution_count": 5
  },
  {
   "cell_type": "code",
   "metadata": {
    "ExecuteTime": {
     "end_time": "2024-06-21T13:48:10.814466Z",
     "start_time": "2024-06-21T13:48:10.810734Z"
    }
   },
   "source": [
    "model.compile(optimizer='adam', loss='categorical_crossentropy', metrics=['accuracy'])"
   ],
   "outputs": [],
   "execution_count": 6
  },
  {
   "cell_type": "code",
   "metadata": {
    "ExecuteTime": {
     "end_time": "2024-06-21T14:03:20.649455Z",
     "start_time": "2024-06-21T13:48:10.815032Z"
    }
   },
   "source": [
    "from tensorflow.keras.callbacks import ModelCheckpoint\n",
    "callbacks = [ModelCheckpoint(filepath='../models/pre_model_2_3.keras', monitor='val_loss', mode='min', save_best_only=True)]\n",
    "\n",
    "history = model.fit(\n",
    "  X_train,\n",
    "  y_train, \n",
    "  epochs=10, \n",
    "  validation_data=(X_val, y_val),\n",
    "  callbacks=callbacks\n",
    "  )"
   ],
   "outputs": [
    {
     "name": "stdout",
     "output_type": "stream",
     "text": [
      "Epoch 1/10\n",
      "\u001B[1m55/55\u001B[0m \u001B[32m━━━━━━━━━━━━━━━━━━━━\u001B[0m\u001B[37m\u001B[0m \u001B[1m138s\u001B[0m 2s/step - accuracy: 0.7703 - loss: 2.9827 - val_accuracy: 0.9955 - val_loss: 0.0161\n",
      "Epoch 2/10\n",
      "\u001B[1m55/55\u001B[0m \u001B[32m━━━━━━━━━━━━━━━━━━━━\u001B[0m\u001B[37m\u001B[0m \u001B[1m117s\u001B[0m 2s/step - accuracy: 0.9943 - loss: 0.0166 - val_accuracy: 1.0000 - val_loss: 0.0010\n",
      "Epoch 3/10\n",
      "\u001B[1m55/55\u001B[0m \u001B[32m━━━━━━━━━━━━━━━━━━━━\u001B[0m\u001B[37m\u001B[0m \u001B[1m74s\u001B[0m 1s/step - accuracy: 1.0000 - loss: 2.6536e-04 - val_accuracy: 1.0000 - val_loss: 1.4292e-04\n",
      "Epoch 4/10\n",
      "\u001B[1m55/55\u001B[0m \u001B[32m━━━━━━━━━━━━━━━━━━━━\u001B[0m\u001B[37m\u001B[0m \u001B[1m80s\u001B[0m 1s/step - accuracy: 1.0000 - loss: 2.4615e-05 - val_accuracy: 1.0000 - val_loss: 5.9923e-05\n",
      "Epoch 5/10\n",
      "\u001B[1m55/55\u001B[0m \u001B[32m━━━━━━━━━━━━━━━━━━━━\u001B[0m\u001B[37m\u001B[0m \u001B[1m102s\u001B[0m 2s/step - accuracy: 1.0000 - loss: 1.3201e-05 - val_accuracy: 1.0000 - val_loss: 4.9954e-05\n",
      "Epoch 6/10\n",
      "\u001B[1m55/55\u001B[0m \u001B[32m━━━━━━━━━━━━━━━━━━━━\u001B[0m\u001B[37m\u001B[0m \u001B[1m81s\u001B[0m 1s/step - accuracy: 1.0000 - loss: 6.6915e-06 - val_accuracy: 1.0000 - val_loss: 4.6727e-05\n",
      "Epoch 7/10\n",
      "\u001B[1m55/55\u001B[0m \u001B[32m━━━━━━━━━━━━━━━━━━━━\u001B[0m\u001B[37m\u001B[0m \u001B[1m72s\u001B[0m 1s/step - accuracy: 1.0000 - loss: 5.6131e-06 - val_accuracy: 1.0000 - val_loss: 3.9568e-05\n",
      "Epoch 8/10\n",
      "\u001B[1m55/55\u001B[0m \u001B[32m━━━━━━━━━━━━━━━━━━━━\u001B[0m\u001B[37m\u001B[0m \u001B[1m73s\u001B[0m 1s/step - accuracy: 1.0000 - loss: 3.9310e-06 - val_accuracy: 1.0000 - val_loss: 3.6179e-05\n",
      "Epoch 9/10\n",
      "\u001B[1m55/55\u001B[0m \u001B[32m━━━━━━━━━━━━━━━━━━━━\u001B[0m\u001B[37m\u001B[0m \u001B[1m72s\u001B[0m 1s/step - accuracy: 1.0000 - loss: 5.2292e-06 - val_accuracy: 1.0000 - val_loss: 3.5616e-05\n",
      "Epoch 10/10\n",
      "\u001B[1m55/55\u001B[0m \u001B[32m━━━━━━━━━━━━━━━━━━━━\u001B[0m\u001B[37m\u001B[0m \u001B[1m73s\u001B[0m 1s/step - accuracy: 1.0000 - loss: 5.1505e-06 - val_accuracy: 1.0000 - val_loss: 2.5240e-05\n"
     ]
    }
   ],
   "execution_count": 7
  },
  {
   "cell_type": "code",
   "metadata": {
    "ExecuteTime": {
     "end_time": "2024-06-21T14:03:21.064834Z",
     "start_time": "2024-06-21T14:03:20.659031Z"
    }
   },
   "source": [
    "# Optionally, plot training history\n",
    "import matplotlib.pyplot as plt\n",
    "\n",
    "plt.figure(figsize=(12, 4))\n",
    "plt.subplot(1, 2, 1)\n",
    "plt.plot(history.history['loss'], label='Train Loss')\n",
    "plt.plot(history.history['val_loss'], label='Validation Loss')\n",
    "plt.xlabel('Epochs')\n",
    "plt.ylabel('Loss')\n",
    "plt.legend()\n",
    "plt.title('Loss over Epochs')\n",
    "\n",
    "plt.subplot(1, 2, 2)\n",
    "plt.plot(history.history['accuracy'], label='Train Accuracy')\n",
    "plt.plot(history.history['val_accuracy'], label='Validation Accuracy')\n",
    "plt.xlabel('Epochs')\n",
    "plt.ylabel('Accuracy')\n",
    "plt.legend()\n",
    "plt.title('Accuracy over Epochs')\n",
    "\n",
    "plt.show()"
   ],
   "outputs": [
    {
     "data": {
      "text/plain": [
       "<Figure size 1200x400 with 2 Axes>"
      ],
      "image/png": "[encoded data removed]"
     },
     "metadata": {},
     "output_type": "display_data"
    }
   ],
   "execution_count": 8
  },
  {
   "cell_type": "code",
   "metadata": {
    "ExecuteTime": {
     "end_time": "2024-06-21T14:03:21.164175Z",
     "start_time": "2024-06-21T14:03:21.065552Z"
    }
   },
   "source": "model.save('../models/pre_model_1_1_10_epochs.h5')\n",
   "outputs": [
    {
     "name": "stderr",
     "output_type": "stream",
     "text": [
      "WARNING:absl:You are saving your model as an HDF5 file via `model.save()` or `keras.saving.save_model(model)`. This file format is considered legacy. We recommend using instead the native Keras format, e.g. `model.save('my_model.keras')` or `keras.saving.save_model(model, 'my_model.keras')`. \n"
     ]
    }
   ],
   "execution_count": 9
  },
  {
   "metadata": {
    "ExecuteTime": {
     "end_time": "2024-06-21T14:03:21.166584Z",
     "start_time": "2024-06-21T14:03:21.164728Z"
    }
   },
   "cell_type": "code",
   "source": "",
   "outputs": [],
   "execution_count": 9
  }
 ],
 "metadata": {
  "kernelspec": {
   "display_name": ".venv",
   "language": "python",
   "name": "python3"
  },
  "language_info": {
   "codemirror_mode": {
    "name": "ipython",
    "version": 3
   },
   "file_extension": ".py",
   "mimetype": "text/x-python",
   "name": "python",
   "nbconvert_exporter": "python",
   "pygments_lexer": "ipython3",
   "version": "3.11.9"
  }
 },
 "nbformat": 4,
 "nbformat_minor": 2
}
