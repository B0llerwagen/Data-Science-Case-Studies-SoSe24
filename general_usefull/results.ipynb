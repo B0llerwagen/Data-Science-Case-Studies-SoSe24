{
 "cells": [
  {
   "cell_type": "markdown",
   "metadata": {},
   "source": []
  },
  {
   "cell_type": "markdown",
   "metadata": {},
   "source": [
    "h1\n",
    "\n",
    "              precision    recall  f1-score   support\n",
    "\n",
    "           0       0.82      0.82      0.82        11\n",
    "           1       0.83      0.83      0.83        12\n",
    "\n",
    "    accuracy                           0.83        23\n",
    "   macro avg       0.83      0.83      0.83        23\n",
    "weighted avg       0.83      0.83      0.83        23"
   ]
  },
  {
   "cell_type": "markdown",
   "metadata": {},
   "source": [
    "h2   \n",
    "              \n",
    "              precision    recall  f1-score   support\n",
    "\n",
    "           0       0.59      0.91      0.71        11\n",
    "           1       0.83      0.42      0.56        12\n",
    "\n",
    "    accuracy                           0.65        23\n",
    "   macro avg       0.71      0.66      0.63        23\n",
    "weighted avg       0.72      0.65      0.63        23"
   ]
  },
  {
   "cell_type": "markdown",
   "metadata": {},
   "source": [
    "h3\n",
    "\n",
    "              precision    recall  f1-score   support\n",
    "\n",
    "           0       0.61      1.00      0.76        11\n",
    "           1       1.00      0.42      0.59        12\n",
    "\n",
    "    accuracy                           0.70        23\n",
    "   macro avg       0.81      0.71      0.67        23\n",
    "weighted avg       0.81      0.70      0.67        23"
   ]
  },
  {
   "cell_type": "markdown",
   "metadata": {},
   "source": [
    "h4\n",
    "\n",
    "              precision    recall  f1-score   support\n",
    "\n",
    "           0       0.62      0.91      0.74        11\n",
    "           1       0.86      0.50      0.63        12\n",
    "\n",
    "    accuracy                           0.70        23\n",
    "   macro avg       0.74      0.70      0.69        23\n",
    "weighted avg       0.75      0.70      0.68        23"
   ]
  },
  {
   "cell_type": "markdown",
   "metadata": {},
   "source": [
    "self h1\n",
    "\n",
    "              precision    recall  f1-score   support\n",
    "\n",
    "           0       0.50      0.27      0.35        11\n",
    "           1       0.53      0.75      0.62        12\n",
    "\n",
    "    accuracy                           0.52        23\n",
    "   macro avg       0.51      0.51      0.49        23\n",
    "weighted avg       0.52      0.52      0.49        23\n"
   ]
  },
  {
   "cell_type": "markdown",
   "metadata": {},
   "source": [
    "self h2\n",
    "\n",
    "              precision    recall  f1-score   support\n",
    "\n",
    "           0       0.58      0.64      0.61        11\n",
    "           1       0.64      0.58      0.61        12\n",
    "\n",
    "    accuracy                           0.61        23\n",
    "   macro avg       0.61      0.61      0.61        23\n",
    "weighted avg       0.61      0.61      0.61        23"
   ]
  }
 ],
 "metadata": {
  "language_info": {
   "name": "python"
  }
 },
 "nbformat": 4,
 "nbformat_minor": 2
}
