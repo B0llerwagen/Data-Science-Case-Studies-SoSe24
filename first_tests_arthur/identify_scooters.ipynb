{
 "cells": [
  {
   "cell_type": "code",
   "execution_count": 52,
   "metadata": {},
   "outputs": [],
   "source": [
    "import pandas as pd\n",
    "import tensorflow as tf\n",
    "import os\n",
    "import shutil\n",
    "from sklearn.model_selection import train_test_split\n",
    "import random\n"
   ]
  },
  {
   "cell_type": "code",
   "execution_count": null,
   "metadata": {},
   "outputs": [],
   "source": [
    "labels_file='/Users/axxtur/Documents/Uni/Data-Science-Case-Studies-SoSe24/labels.csv'\n",
    "\n",
    "source_img_dir = '/Users/axxtur/Documents/Uni/Data-Science-Case-Studies-SoSe24/Yoio_Park_Proof'\n",
    "dest_img_dir ='/Users/axxtur/Documents/Uni/Data-Science-Case-Studies-SoSe24/first_tests_arthur/dataset'\n",
    "\n",
    "label_csv= pd.read_csv(labels_file,sep=';')\n",
    "\n",
    "img_names = label_csv['Image_name'].to_list()\n",
    "\n",
    "# Iterate through the list and copy images\n",
    "for image_name in img_names:\n",
    "    source_path = os.path.join(source_img_dir, image_name)\n",
    "    destination_path = os.path.join(dest_img_dir, image_name)\n",
    "    \n",
    "    # Check if the image exists in the source directory\n",
    "    if os.path.exists(source_path):\n",
    "        shutil.copy(source_path, destination_path)\n",
    "    else:\n",
    "        print(f\"Image not found: {image_name}\")\n",
    "\n"
   ]
  },
  {
   "cell_type": "code",
   "execution_count": 47,
   "metadata": {},
   "outputs": [
    {
     "name": "stdout",
     "output_type": "stream",
     "text": [
      "Number of training images: 242\n",
      "Train dataset size after mapping: 242\n",
      "Test dataset size after mapping: 61\n"
     ]
    }
   ],
   "source": [
    "###Prepare the Dataset\n",
    "# Function to load images\n",
    "def load_image(image_name, label):\n",
    "    image_name = image_name.numpy().decode('utf-8')\n",
    "    image_path = os.path.join(dest_img_dir, image_name)\n",
    "    image = tf.io.read_file(image_path)\n",
    "    image = tf.image.decode_jpeg(image, channels=3)\n",
    "    image = tf.image.resize(image, [224, 224])  # Resize to match model input\n",
    "    return image, label\n",
    "\n",
    "# Create lists of image paths and labels\n",
    "image_paths = label_csv['Image_name'].tolist()\n",
    "labels = label_csv['Rule1'].tolist()\n",
    "\n",
    "# Split into training and testing sets\n",
    "X_train, X_test, y_train, y_test = train_test_split(image_paths, labels, test_size=0.2, random_state=42)\n",
    "\n",
    "# Convert lists to TensorFlow datasets\n",
    "train_dataset = tf.data.Dataset.from_tensor_slices((X_train, y_train))\n",
    "test_dataset = tf.data.Dataset.from_tensor_slices((X_test, y_test))\n",
    "\n",
    "print(f'Number of training images: {len(train_dataset)}')\n",
    "\n",
    "# Map function with debugging\n",
    "def map_function(image_name, label):\n",
    "    image, label = tf.py_function(func=load_image, inp=[image_name, label], Tout=[tf.float32, tf.int32])\n",
    "    image.set_shape((224, 224, 3))\n",
    "    label.set_shape([])\n",
    "    return image, label\n",
    "\n",
    "train_dataset = train_dataset.map(map_function, num_parallel_calls=tf.data.experimental.AUTOTUNE)\n",
    "test_dataset = test_dataset.map(map_function, num_parallel_calls=tf.data.experimental.AUTOTUNE)\n",
    "\n",
    "# Verify the dataset sizes after mapping\n",
    "print(f'Train dataset size after mapping: {len(list(train_dataset))}')\n",
    "print(f'Test dataset size after mapping: {len(list(test_dataset))}')\n",
    "\n",
    "# Batch and prefetch the datasets -> \n",
    "train_dataset = train_dataset.batch(32).prefetch(buffer_size=tf.data.experimental.AUTOTUNE)\n",
    "test_dataset = test_dataset.batch(32).prefetch(buffer_size=tf.data.experimental.AUTOTUNE)\n",
    "\n",
    "\n"
   ]
  },
  {
   "cell_type": "code",
   "execution_count": 48,
   "metadata": {},
   "outputs": [
    {
     "name": "stdout",
     "output_type": "stream",
     "text": [
      "WARNING:tensorflow:Using a while_loop for converting RngReadAndSkip cause there is no registered converter for this op.\n",
      "WARNING:tensorflow:Using a while_loop for converting Bitcast cause there is no registered converter for this op.\n",
      "WARNING:tensorflow:Using a while_loop for converting Bitcast cause there is no registered converter for this op.\n",
      "WARNING:tensorflow:Using a while_loop for converting StatelessRandomUniformV2 cause there is no registered converter for this op.\n",
      "WARNING:tensorflow:Using a while_loop for converting ImageProjectiveTransformV3 cause there is no registered converter for this op.\n",
      "WARNING:tensorflow:Using a while_loop for converting RngReadAndSkip cause there is no registered converter for this op.\n",
      "WARNING:tensorflow:Using a while_loop for converting Bitcast cause there is no registered converter for this op.\n",
      "WARNING:tensorflow:Using a while_loop for converting Bitcast cause there is no registered converter for this op.\n",
      "WARNING:tensorflow:Using a while_loop for converting StatelessRandomUniformV2 cause there is no registered converter for this op.\n",
      "WARNING:tensorflow:Using a while_loop for converting ImageProjectiveTransformV3 cause there is no registered converter for this op.\n",
      "WARNING:tensorflow:Using a while_loop for converting RngReadAndSkip cause there is no registered converter for this op.\n",
      "WARNING:tensorflow:Using a while_loop for converting Bitcast cause there is no registered converter for this op.\n",
      "WARNING:tensorflow:Using a while_loop for converting Bitcast cause there is no registered converter for this op.\n",
      "WARNING:tensorflow:Using a while_loop for converting StatelessRandomUniformV2 cause there is no registered converter for this op.\n",
      "WARNING:tensorflow:Using a while_loop for converting ImageProjectiveTransformV3 cause there is no registered converter for this op.\n",
      "WARNING:tensorflow:Using a while_loop for converting RngReadAndSkip cause there is no registered converter for this op.\n",
      "WARNING:tensorflow:Using a while_loop for converting Bitcast cause there is no registered converter for this op.\n",
      "WARNING:tensorflow:Using a while_loop for converting Bitcast cause there is no registered converter for this op.\n",
      "WARNING:tensorflow:Using a while_loop for converting StatelessRandomUniformV2 cause there is no registered converter for this op.\n",
      "WARNING:tensorflow:Using a while_loop for converting ImageProjectiveTransformV3 cause there is no registered converter for this op.\n"
     ]
    }
   ],
   "source": [
    "### Data Argumentation\n",
    "# Data augmentation (optional but recommended)\n",
    "data_augmentation = tf.keras.Sequential([\n",
    "    tf.keras.layers.RandomFlip('horizontal'),\n",
    "    tf.keras.layers.RandomRotation(0.2),\n",
    "    tf.keras.layers.RandomZoom(0.2),\n",
    "])\n",
    "\n",
    "# Apply data augmentation to the training dataset\n",
    "def augment(image, label):\n",
    "    return data_augmentation(image, training=True), label\n",
    "\n",
    "train_dataset = train_dataset.map(augment, num_parallel_calls=tf.data.experimental.AUTOTUNE)\n"
   ]
  },
  {
   "cell_type": "code",
   "execution_count": 49,
   "metadata": {},
   "outputs": [],
   "source": [
    "### Create the Model\n",
    "\n",
    "from tensorflow.keras import layers, models\n",
    "\n",
    "# Create a simple CNN model\n",
    "model = models.Sequential([\n",
    "    layers.InputLayer(input_shape=(224, 224, 3)),\n",
    "    layers.Conv2D(32, (3, 3), activation='relu'),\n",
    "    layers.MaxPooling2D((2, 2)),\n",
    "    layers.Conv2D(64, (3, 3), activation='relu'),\n",
    "    layers.MaxPooling2D((2, 2)),\n",
    "    layers.Conv2D(128, (3, 3), activation='relu'),\n",
    "    layers.MaxPooling2D((2, 2)),\n",
    "    layers.Flatten(),\n",
    "    layers.Dense(128, activation='relu'),\n",
    "    layers.Dense(2, activation='softmax')  # Adjust the number of classes as per your labels\n",
    "])\n",
    "\n",
    "# Compile the model\n",
    "model.compile(optimizer='adam', loss='sparse_categorical_crossentropy', metrics=['accuracy'])\n"
   ]
  },
  {
   "cell_type": "code",
   "execution_count": 50,
   "metadata": {},
   "outputs": [
    {
     "name": "stdout",
     "output_type": "stream",
     "text": [
      "Epoch 1/5\n",
      "8/8 [==============================] - 12s 1s/step - loss: 92.7380 - accuracy: 0.8223 - val_loss: 4.1626 - val_accuracy: 0.9508\n",
      "Epoch 2/5\n",
      "8/8 [==============================] - 10s 1s/step - loss: 6.2720 - accuracy: 0.9587 - val_loss: 4.2818 - val_accuracy: 0.9344\n",
      "Epoch 3/5\n",
      "8/8 [==============================] - 10s 1s/step - loss: 3.4826 - accuracy: 0.8636 - val_loss: 11.0809 - val_accuracy: 0.9344\n",
      "Epoch 4/5\n",
      "8/8 [==============================] - 10s 1s/step - loss: 3.7641 - accuracy: 0.9587 - val_loss: 3.3827 - val_accuracy: 0.9344\n",
      "Epoch 5/5\n",
      "8/8 [==============================] - 10s 1s/step - loss: 2.4663 - accuracy: 0.8512 - val_loss: 6.8652 - val_accuracy: 0.9344\n"
     ]
    }
   ],
   "source": [
    "### Train the Model\n",
    "\n",
    "history = model.fit(train_dataset, epochs=5, validation_data=test_dataset)\n",
    "\n"
   ]
  },
  {
   "cell_type": "code",
   "execution_count": 51,
   "metadata": {},
   "outputs": [
    {
     "name": "stdout",
     "output_type": "stream",
     "text": [
      "2/2 [==============================] - 1s 238ms/step - loss: 6.8652 - accuracy: 0.9344\n",
      "Test Accuracy: 0.9344262480735779\n"
     ]
    }
   ],
   "source": [
    "### Evaluate the model\n",
    "test_loss, test_acc = model.evaluate(test_dataset)\n",
    "print(f'Test Accuracy: {test_acc}')\n"
   ]
  },
  {
   "cell_type": "code",
   "execution_count": 35,
   "metadata": {},
   "outputs": [
    {
     "name": "stdout",
     "output_type": "stream",
     "text": [
      "303\n"
     ]
    }
   ],
   "source": [
    "print(len(image_paths))"
   ]
  },
  {
   "cell_type": "code",
   "execution_count": 55,
   "metadata": {},
   "outputs": [
    {
     "name": "stdout",
     "output_type": "stream",
     "text": [
      "1/1 [==============================] - 0s 118ms/step\n",
      "1/1 [==============================] - 0s 40ms/step\n",
      "1/1 [==============================] - 0s 36ms/step\n",
      "1/1 [==============================] - 0s 35ms/step\n",
      "1/1 [==============================] - 0s 35ms/step\n",
      "1/1 [==============================] - 0s 40ms/step\n",
      "1/1 [==============================] - 0s 37ms/step\n",
      "1/1 [==============================] - 0s 36ms/step\n",
      "1/1 [==============================] - 0s 40ms/step\n",
      "1/1 [==============================] - 0s 38ms/step\n",
      "                                          image_name  predicted_class\n",
      "0  16027721154e3af916dd80cf0c1e97b99fd6bccd18cdd6...                0\n",
      "1  15923921190e3831164a41b9b000fd292e57c4963ce4ec...                0\n",
      "2  1606045813b8bc56aac258aa5d6e3707e43c4b1fdcf5e1...                0\n",
      "3  16006837606e58d905454e06634091413492c8a083faa0...                0\n",
      "4  160490413917d3baf7e71803700a59a224fb4347ac1bdd...                0\n",
      "5  1584903656b9a7ba8d3806d3291754118df8c6244a05b7...                0\n",
      "6  1614764706febb85d4cc3ef66250f074fb0ee32bd443ae...                0\n",
      "7  160024695927f3c11021b8ffc4e459c4148f9dad95812b...                0\n",
      "8  1607705585105409e2577130214e8e8bbb11f5e21cfa27...                0\n",
      "9  16083773499548fce7d48c172d5fe79ae3e763d3864bba...                0\n",
      "Copied 16027721154e3af916dd80cf0c1e97b99fd6bccd18cdd6f7.jpg to predictions\n",
      "Copied 15923921190e3831164a41b9b000fd292e57c4963ce4ec6a.jpg to predictions\n",
      "Copied 1606045813b8bc56aac258aa5d6e3707e43c4b1fdcf5e153.jpg to predictions\n",
      "Copied 16006837606e58d905454e06634091413492c8a083faa029.jpg to predictions\n",
      "Copied 160490413917d3baf7e71803700a59a224fb4347ac1bddf8.jpg to predictions\n",
      "Copied 1584903656b9a7ba8d3806d3291754118df8c6244a05b760.jpg to predictions\n",
      "Copied 1614764706febb85d4cc3ef66250f074fb0ee32bd443ae2d.jpg to predictions\n",
      "Copied 160024695927f3c11021b8ffc4e459c4148f9dad95812bef.jpg to predictions\n",
      "Copied 1607705585105409e2577130214e8e8bbb11f5e21cfa2770.jpg to predictions\n",
      "Copied 16083773499548fce7d48c172d5fe79ae3e763d3864bba31.jpg to predictions\n",
      "Copied images: ['1584903656b9a7ba8d3806d3291754118df8c6244a05b760.jpg', '15923921190e3831164a41b9b000fd292e57c4963ce4ec6a.jpg', '160490413917d3baf7e71803700a59a224fb4347ac1bddf8.jpg', '16006837606e58d905454e06634091413492c8a083faa029.jpg', '1607705585105409e2577130214e8e8bbb11f5e21cfa2770.jpg', '160024695927f3c11021b8ffc4e459c4148f9dad95812bef.jpg', '1606045813b8bc56aac258aa5d6e3707e43c4b1fdcf5e153.jpg', '16083773499548fce7d48c172d5fe79ae3e763d3864bba31.jpg', '1614764706febb85d4cc3ef66250f074fb0ee32bd443ae2d.jpg', '16027721154e3af916dd80cf0c1e97b99fd6bccd18cdd6f7.jpg']\n"
     ]
    }
   ],
   "source": [
    "### Precict Images\n",
    "def predict_new_images(model, image_folder, num_images=10):\n",
    "    random_images = random.sample(os.listdir(image_folder), num_images)\n",
    "    results = []\n",
    "    \n",
    "    for image_name in random_images:\n",
    "        image_path = os.path.join(image_folder, image_name)\n",
    "        image = tf.io.read_file(image_path)\n",
    "        image = tf.image.decode_jpeg(image, channels=3)\n",
    "        image = tf.image.resize(image, [224, 224])  # Resize to match model input\n",
    "        image = tf.expand_dims(image, 0)  # Add a batch dimension\n",
    "        predictions = model.predict(image)\n",
    "        predicted_class = tf.argmax(predictions, axis=-1).numpy()[0]\n",
    "        results.append((image_name, predicted_class))\n",
    "    \n",
    "    return results\n",
    "\n",
    "# Specify the folder containing new images\n",
    "predictions_folder = 'predictions'\n",
    "\n",
    "# Create the predictions folder if it doesn't exist\n",
    "os.makedirs(predictions_folder, exist_ok=True)\n",
    "\n",
    "# Predict the class for 10 random images from the new image folder\n",
    "predicted_results = predict_new_images(model, source_img_dir)\n",
    "predicted_df = pd.DataFrame(predicted_results, columns=['image_name', 'predicted_class'])\n",
    "\n",
    "print(predicted_df)\n",
    "\n",
    "# Save the results to a CSV file\n",
    "predicted_df.to_csv('predicted_results.csv', index=False)\n",
    "\n",
    "# Copy the predicted images to the predictions folder\n",
    "for image_name in predicted_df['image_name']:\n",
    "    src_path = os.path.join(source_img_dir, image_name)\n",
    "    dst_path = os.path.join(predictions_folder, image_name)\n",
    "    shutil.copy(src_path, dst_path)\n",
    "    print(f'Copied {image_name} to {predictions_folder}')\n",
    "\n",
    "# Verify the copied images\n",
    "print(f'Copied images: {os.listdir(predictions_folder)}')"
   ]
  }
 ],
 "metadata": {
  "kernelspec": {
   "display_name": "Python 3",
   "language": "python",
   "name": "python3"
  },
  "language_info": {
   "codemirror_mode": {
    "name": "ipython",
    "version": 3
   },
   "file_extension": ".py",
   "mimetype": "text/x-python",
   "name": "python",
   "nbconvert_exporter": "python",
   "pygments_lexer": "ipython3",
   "version": "3.9.5"
  }
 },
 "nbformat": 4,
 "nbformat_minor": 2
}
