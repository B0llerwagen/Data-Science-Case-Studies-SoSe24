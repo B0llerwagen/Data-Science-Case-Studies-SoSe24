{
 "cells": [
  {
   "cell_type": "code",
   "execution_count": 5,
   "metadata": {
    "ExecuteTime": {
     "end_time": "2024-06-02T16:24:12.937868Z",
     "start_time": "2024-06-02T16:24:12.797213Z"
    }
   },
   "outputs": [
    {
     "name": "stdout",
     "output_type": "stream",
     "text": [
      "<class 'pandas.core.frame.DataFrame'>\n",
      "RangeIndex: 1456 entries, 0 to 1455\n",
      "Data columns (total 9 columns):\n",
      " #   Column      Non-Null Count  Dtype \n",
      "---  ------      --------------  ----- \n",
      " 0   Image_name  1456 non-null   object\n",
      " 1   Rule1       1456 non-null   int64 \n",
      " 2   Rule2       1456 non-null   int64 \n",
      " 3   Rule3       1456 non-null   int64 \n",
      " 4   Rule4       1456 non-null   int64 \n",
      " 5   Rule5       1456 non-null   int64 \n",
      " 6   Rule6       1456 non-null   int64 \n",
      " 7   Rule7       1456 non-null   int64 \n",
      " 8   Rule8       1456 non-null   int64 \n",
      "dtypes: int64(8), object(1)\n",
      "memory usage: 102.5+ KB\n"
     ]
    }
   ],
   "source": [
    "#load data\n",
    "import pandas as pd\n",
    "\n",
    "labels = pd.read_csv('../labels.csv', header=0, sep=';')\n",
    "#print(labels.head())\n",
    "labels.info()"
   ]
  },
  {
   "cell_type": "code",
   "execution_count": 6,
   "metadata": {
    "ExecuteTime": {
     "end_time": "2024-06-02T16:24:12.994858Z",
     "start_time": "2024-06-02T16:24:12.941250Z"
    }
   },
   "outputs": [
    {
     "name": "stdout",
     "output_type": "stream",
     "text": [
      "<class 'pandas.core.frame.DataFrame'>\n",
      "Index: 1432 entries, 0 to 1455\n",
      "Data columns (total 9 columns):\n",
      " #   Column      Non-Null Count  Dtype \n",
      "---  ------      --------------  ----- \n",
      " 0   Image_name  1432 non-null   object\n",
      " 1   Rule1       1432 non-null   int64 \n",
      " 2   Rule2       1432 non-null   int64 \n",
      " 3   Rule3       1432 non-null   int64 \n",
      " 4   Rule4       1432 non-null   int64 \n",
      " 5   Rule5       1432 non-null   int64 \n",
      " 6   Rule6       1432 non-null   int64 \n",
      " 7   Rule7       1432 non-null   int64 \n",
      " 8   Rule8       1432 non-null   int64 \n",
      "dtypes: int64(8), object(1)\n",
      "memory usage: 111.9+ KB\n"
     ]
    }
   ],
   "source": [
    "labels_no_useless = labels[~labels.apply(lambda x: all(int(rule) == 1 for rule in x[1:]), axis=1)]\n",
    "#remove row with no values\n",
    "\n",
    "labels_no_useless.info()"
   ]
  },
  {
   "cell_type": "code",
   "execution_count": 7,
   "metadata": {
    "ExecuteTime": {
     "end_time": "2024-06-02T16:24:13.008222Z",
     "start_time": "2024-06-02T16:24:12.996405Z"
    }
   },
   "outputs": [
    {
     "name": "stdout",
     "output_type": "stream",
     "text": [
      "<class 'pandas.core.frame.DataFrame'>\n",
      "Index: 186 entries, 31 to 930\n",
      "Data columns (total 2 columns):\n",
      " #   Column      Non-Null Count  Dtype \n",
      "---  ------      --------------  ----- \n",
      " 0   Image_name  186 non-null    object\n",
      " 1   Rule5       186 non-null    int64 \n",
      "dtypes: int64(1), object(1)\n",
      "memory usage: 4.4+ KB\n"
     ]
    }
   ],
   "source": [
    "rule_5 = labels_no_useless[labels_no_useless['Rule5'] == 1]\n",
    "\n",
    "other_rules = labels_no_useless[labels_no_useless['Rule5'] == 0].sample(n=rule_5.shape[0]*2, random_state=42)\n",
    "\n",
    "balanced_labels = pd.concat([rule_5, other_rules])\n",
    "\n",
    "balanced_labels= balanced_labels[[\"Image_name\", \"Rule5\"]]\n",
    "\n",
    "balanced_labels.info()"
   ]
  },
  {
   "cell_type": "code",
   "execution_count": 8,
   "metadata": {
    "ExecuteTime": {
     "end_time": "2024-06-02T16:24:13.015160Z",
     "start_time": "2024-06-02T16:24:13.009488Z"
    }
   },
   "outputs": [],
   "source": [
    "balanced_labels.to_csv('../local_data/balanced_labels.csv', sep=';', index=False)"
   ]
  }
 ],
 "metadata": {
  "kernelspec": {
   "display_name": ".venv",
   "language": "python",
   "name": "python3"
  },
  "language_info": {
   "codemirror_mode": {
    "name": "ipython",
    "version": 3
   },
   "file_extension": ".py",
   "mimetype": "text/x-python",
   "name": "python",
   "nbconvert_exporter": "python",
   "pygments_lexer": "ipython3",
   "version": "3.11.9"
  }
 },
 "nbformat": 4,
 "nbformat_minor": 2
}
