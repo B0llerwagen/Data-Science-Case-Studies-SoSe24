{
 "cells": [
  {
   "cell_type": "code",
   "execution_count": 1,
   "metadata": {
    "ExecuteTime": {
     "end_time": "2024-06-02T16:24:24.635121Z",
     "start_time": "2024-06-02T16:24:21.462471Z"
    }
   },
   "outputs": [
    {
     "name": "stderr",
     "output_type": "stream",
     "text": [
      "C:\\Users\\juliu\\AppData\\Local\\Temp\\ipykernel_27076\\3690832595.py:29: FutureWarning: Series.__getitem__ treating keys as positions is deprecated. In a future version, integer keys will always be treated as labels (consistent with DataFrame behavior). To access a value by position, use `ser.iloc[pos]`\n",
      "  image_labels.append(row[1])  # Assuming labels are in columns after 'Image'\n",
      "C:\\Users\\juliu\\AppData\\Local\\Temp\\ipykernel_27076\\3690832595.py:30: FutureWarning: Series.__getitem__ treating keys as positions is deprecated. In a future version, integer keys will always be treated as labels (consistent with DataFrame behavior). To access a value by position, use `ser.iloc[pos]`\n",
      "  print(f\"Loaded image {img_name} with label {row[1]}\", end='\\r')\n"
     ]
    },
    {
     "name": "stdout",
     "output_type": "stream",
     "text": [
      "Loaded image 1611069010d4195df2dc40f925df716a696c3f32f04a7ebb.jpg with label 0\r"
     ]
    }
   ],
   "source": [
    "import os\n",
    "from PIL import Image\n",
    "import pandas as pd\n",
    "from pandas import read_csv\n",
    "import numpy as np\n",
    "\n",
    "img_folder = \"../../Yoio_Park_Proof\"\n",
    "target_size = (512, 512)\n",
    "label_data = read_csv(\"../local_data/rule5_balanced_labels.csv\", sep=\";\")\n",
    "\n",
    "# Function to load and resize an image\n",
    "def load_image(img_path, target_size):\n",
    "    with Image.open(img_path) as img:\n",
    "        img = img.resize(target_size)\n",
    "        img = img.convert('RGB')  # Ensure image is in RGB format\n",
    "        return np.array(img)\n",
    "\n",
    "# Read images and their corresponding labels\n",
    "image_data = []\n",
    "image_labels = []\n",
    "\n",
    "for idx, row in label_data.iterrows():\n",
    "    img_name = row['Image_name']\n",
    "    img_path = os.path.join(img_folder, img_name)\n",
    "    \n",
    "    if os.path.exists(img_path):\n",
    "        img_array = load_image(img_path, target_size)\n",
    "        image_data.append(img_array)\n",
    "        image_labels.append(row[1])  # Assuming labels are in columns after 'Image'\n",
    "        print(f\"Loaded image {img_name} with label {row[1]}\", end='\\r')\n",
    "    else:\n",
    "        print(f\"Warning: Image {img_name} not found in folder {img_folder}\")\n",
    "\n"
   ]
  },
  {
   "cell_type": "code",
   "execution_count": 27,
   "metadata": {},
   "outputs": [],
   "source": [
    "import plaidml.keras\n",
    "import collections\n",
    "collections.Iterable = collections.abc.Iterable\n",
    "plaidml.keras.install_backend()\n",
    "from keras import backend as K\n",
    "import inspect\n",
    "if not hasattr(inspect, \"getargspec\"):\n",
    "    inspect.getargspec = inspect.getfullargspec\n"
   ]
  },
  {
   "cell_type": "code",
   "execution_count": 2,
   "metadata": {
    "ExecuteTime": {
     "end_time": "2024-06-02T16:24:26.711842Z",
     "start_time": "2024-06-02T16:24:26.431028Z"
    }
   },
   "outputs": [],
   "source": [
    "from sklearn.model_selection import train_test_split\n",
    "\n",
    "X_train, X_test, y_train, y_test = train_test_split(image_data, image_labels, test_size=0.2, random_state=42)\n",
    "\n",
    "X_train = np.array(X_train)\n",
    "X_test = np.array(X_test)\n",
    "y_train = np.array(y_train)\n",
    "y_test = np.array(y_test)"
   ]
  },
  {
   "cell_type": "code",
   "execution_count": 4,
   "metadata": {
    "ExecuteTime": {
     "end_time": "2024-06-02T16:24:26.721851Z",
     "start_time": "2024-06-02T16:24:26.713039Z"
    }
   },
   "outputs": [],
   "source": [
    "import pickle\n",
    "\n",
    "with open('../../local_data/rule5_test_img.pickle', 'wb') as f:\n",
    "    pickle.dump((X_test, y_test), f)"
   ]
  },
  {
   "cell_type": "code",
   "execution_count": 34,
   "metadata": {
    "ExecuteTime": {
     "end_time": "2024-06-02T16:24:42.184506Z",
     "start_time": "2024-06-02T16:24:42.035456Z"
    }
   },
   "outputs": [],
   "source": [
    "import pickle\n",
    "\n",
    "with open('../../local_data/train_img.pickle', 'wb') as f:\n",
    "    pickle.dump((X_train, y_train), f)"
   ]
  }
 ],
 "metadata": {
  "kernelspec": {
   "display_name": ".venv",
   "language": "python",
   "name": "python3"
  },
  "language_info": {
   "codemirror_mode": {
    "name": "ipython",
    "version": 3
   },
   "file_extension": ".py",
   "mimetype": "text/x-python",
   "name": "python",
   "nbconvert_exporter": "python",
   "pygments_lexer": "ipython3",
   "version": "3.11.9"
  }
 },
 "nbformat": 4,
 "nbformat_minor": 2
}
