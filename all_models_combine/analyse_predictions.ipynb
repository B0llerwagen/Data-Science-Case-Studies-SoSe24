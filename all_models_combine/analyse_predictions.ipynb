{
 "cells": [
  {
   "cell_type": "code",
   "execution_count": 82,
   "metadata": {},
   "outputs": [],
   "source": [
    "import pandas as pd\n",
    "balanced_labels = pd.read_csv('../all_models_combine/chosen_labels.csv', sep=';',index_col=False)\n",
    "predictions_labels = pd.read_csv(\"../all_models_combine/predicted_labels_2.csv\", sep=\";\", index_col=False)"
   ]
  },
  {
   "cell_type": "code",
   "execution_count": 83,
   "metadata": {},
   "outputs": [],
   "source": [
    "df_filtered = balanced_labels[balanced_labels['Image_name'].isin(predictions_labels['Image_name'])].drop_duplicates(subset=['Image_name'],keep=\"first\")\n",
    "predictions_labels=predictions_labels.drop_duplicates(subset=['Image_name'],keep=\"first\")"
   ]
  },
  {
   "cell_type": "code",
   "execution_count": 84,
   "metadata": {},
   "outputs": [
    {
     "name": "stdout",
     "output_type": "stream",
     "text": [
      "TN: 60, FP: 13, FN: 186, TP: 72\n"
     ]
    }
   ],
   "source": [
    "tn = 0\n",
    "fp = 0\n",
    "fn = 0\n",
    "tp = 0\n",
    "\n",
    "for index, row in df_filtered.iterrows():\n",
    "    image = row['Image_name']\n",
    "    \n",
    "    # Extrahiere die tatsächlichen Werte ab der zweiten Spalte\n",
    "    actual_value_list = row[1:]\n",
    "    if all(x == 0 for x in actual_value_list):\n",
    "        actual_value = 0\n",
    "    else:\n",
    "        actual_value = 1\n",
    "\n",
    "    # Finde die Vorhersagezeile für das Bild\n",
    "    predicted_row = predictions_labels[predictions_labels[\"Image_name\"] == image]\n",
    "    \n",
    "    if not predicted_row.empty:\n",
    "        # Extrahiere die vorhergesagten Werte ab der zweiten Spalte\n",
    "        predicted_value_list = predicted_row.iloc[0, 1:]\n",
    "        \n",
    "        if all(x == 0 for x in predicted_value_list):\n",
    "            predicted_value = 0\n",
    "        else:\n",
    "            predicted_value = 1\n",
    "\n",
    "        # Aktualisiere die Zähler basierend auf den tatsächlichen und vorhergesagten Werten\n",
    "        if actual_value == 0 and predicted_value == 0:\n",
    "            tn += 1\n",
    "        elif actual_value == 0 and predicted_value == 1:\n",
    "            fp += 1\n",
    "        elif actual_value == 1 and predicted_value == 0:\n",
    "            fn += 1\n",
    "        elif actual_value == 1 and predicted_value == 1:\n",
    "            tp += 1\n",
    "        else:\n",
    "            print(\"komisch\")\n",
    "    else:\n",
    "        print(f\"Keine Vorhersage für Bild: {image}\")\n",
    "\n",
    "print(f\"TN: {tn}, FP: {fp}, FN: {fn}, TP: {tp}\")\n"
   ]
  },
  {
   "cell_type": "code",
   "execution_count": 87,
   "metadata": {},
   "outputs": [
    {
     "name": "stdout",
     "output_type": "stream",
     "text": [
      "0.6012084592145015\n"
     ]
    }
   ],
   "source": [
    "err = (fp+fn)/(tp+tn+fn+fp)\n",
    "print(err)"
   ]
  },
  {
   "cell_type": "code",
   "execution_count": 88,
   "metadata": {},
   "outputs": [
    {
     "name": "stdout",
     "output_type": "stream",
     "text": [
      "0.3987915407854985\n"
     ]
    }
   ],
   "source": [
    "acc = (tp+tn)/(tp+tn+fn+fp)\n",
    "print(acc)"
   ]
  },
  {
   "cell_type": "code",
   "execution_count": null,
   "metadata": {},
   "outputs": [],
   "source": []
  }
 ],
 "metadata": {
  "kernelspec": {
   "display_name": ".venv",
   "language": "python",
   "name": "python3"
  },
  "language_info": {
   "codemirror_mode": {
    "name": "ipython",
    "version": 3
   },
   "file_extension": ".py",
   "mimetype": "text/x-python",
   "name": "python",
   "nbconvert_exporter": "python",
   "pygments_lexer": "ipython3",
   "version": "3.11.9"
  }
 },
 "nbformat": 4,
 "nbformat_minor": 2
}
