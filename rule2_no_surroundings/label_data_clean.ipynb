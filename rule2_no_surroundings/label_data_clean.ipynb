{
 "cells": [
  {
   "cell_type": "code",
   "execution_count": 1,
   "metadata": {
    "ExecuteTime": {
     "end_time": "2024-06-02T16:24:12.937868Z",
     "start_time": "2024-06-02T16:24:12.797213Z"
    }
   },
   "outputs": [
    {
     "name": "stdout",
     "output_type": "stream",
     "text": [
      "<class 'pandas.core.frame.DataFrame'>\n",
      "RangeIndex: 2236 entries, 0 to 2235\n",
      "Data columns (total 9 columns):\n",
      " #   Column      Non-Null Count  Dtype \n",
      "---  ------      --------------  ----- \n",
      " 0   Image_name  2236 non-null   object\n",
      " 1   Rule1       2236 non-null   int64 \n",
      " 2   Rule2       2236 non-null   int64 \n",
      " 3   Rule3       2236 non-null   int64 \n",
      " 4   Rule4       2236 non-null   int64 \n",
      " 5   Rule5       2236 non-null   int64 \n",
      " 6   Rule6       2236 non-null   int64 \n",
      " 7   Rule7       2236 non-null   int64 \n",
      " 8   Rule8       2236 non-null   int64 \n",
      "dtypes: int64(8), object(1)\n",
      "memory usage: 157.3+ KB\n"
     ]
    }
   ],
   "source": [
    "#load data\n",
    "import pandas as pd\n",
    "\n",
    "labels = pd.read_csv('../labels.csv', header=0, sep=';')\n",
    "#print(labels.head())\n",
    "labels.info()"
   ]
  },
  {
   "cell_type": "code",
   "execution_count": 5,
   "metadata": {
    "ExecuteTime": {
     "end_time": "2024-06-02T16:24:12.994858Z",
     "start_time": "2024-06-02T16:24:12.941250Z"
    }
   },
   "outputs": [
    {
     "name": "stdout",
     "output_type": "stream",
     "text": [
      "<class 'pandas.core.frame.DataFrame'>\n",
      "RangeIndex: 2236 entries, 0 to 2235\n",
      "Data columns (total 9 columns):\n",
      " #   Column      Non-Null Count  Dtype \n",
      "---  ------      --------------  ----- \n",
      " 0   Image_name  2236 non-null   object\n",
      " 1   Rule1       2236 non-null   int64 \n",
      " 2   Rule2       2236 non-null   int64 \n",
      " 3   Rule3       2236 non-null   int64 \n",
      " 4   Rule4       2236 non-null   int64 \n",
      " 5   Rule5       2236 non-null   int64 \n",
      " 6   Rule6       2236 non-null   int64 \n",
      " 7   Rule7       2236 non-null   int64 \n",
      " 8   Rule8       2236 non-null   int64 \n",
      "dtypes: int64(8), object(1)\n",
      "memory usage: 157.3+ KB\n"
     ]
    }
   ],
   "source": [
    "#labels_no_useless = labels[~labels.apply(lambda x: all(int(rule) == 1 for rule in x[1:]), axis=1)]\n",
    "#remove row with no values\n",
    "\n",
    "labels_no_useless = labels # for now to see if better results / if it can detect useless images\n",
    "\n",
    "labels_no_useless.info()"
   ]
  },
  {
   "cell_type": "code",
   "execution_count": 8,
   "metadata": {},
   "outputs": [
    {
     "name": "stdout",
     "output_type": "stream",
     "text": [
      "<class 'pandas.core.frame.DataFrame'>\n",
      "Index: 24 entries, 12 to 1004\n",
      "Data columns (total 9 columns):\n",
      " #   Column      Non-Null Count  Dtype \n",
      "---  ------      --------------  ----- \n",
      " 0   Image_name  24 non-null     object\n",
      " 1   Rule1       24 non-null     int64 \n",
      " 2   Rule2       24 non-null     int64 \n",
      " 3   Rule3       24 non-null     int64 \n",
      " 4   Rule4       24 non-null     int64 \n",
      " 5   Rule5       24 non-null     int64 \n",
      " 6   Rule6       24 non-null     int64 \n",
      " 7   Rule7       24 non-null     int64 \n",
      " 8   Rule8       24 non-null     int64 \n",
      "dtypes: int64(8), object(1)\n",
      "memory usage: 1.9+ KB\n"
     ]
    }
   ],
   "source": [
    "useless = labels[labels.apply(lambda x: all(int(rule) == 1 for rule in x[1:]), axis=1)]\n",
    "useless.info()"
   ]
  },
  {
   "cell_type": "code",
   "execution_count": 12,
   "metadata": {
    "ExecuteTime": {
     "end_time": "2024-06-02T16:24:13.008222Z",
     "start_time": "2024-06-02T16:24:12.996405Z"
    }
   },
   "outputs": [
    {
     "name": "stdout",
     "output_type": "stream",
     "text": [
      "<class 'pandas.core.frame.DataFrame'>\n",
      "Index: 2208 entries, 2 to 1004\n",
      "Data columns (total 2 columns):\n",
      " #   Column      Non-Null Count  Dtype \n",
      "---  ------      --------------  ----- \n",
      " 0   Image_name  2208 non-null   object\n",
      " 1   Rule2       2208 non-null   int64 \n",
      "dtypes: int64(1), object(1)\n",
      "memory usage: 51.8+ KB\n"
     ]
    }
   ],
   "source": [
    "rule_2 = labels_no_useless[labels_no_useless['Rule2'] == 1]\n",
    "\n",
    "other_rules = labels_no_useless[labels_no_useless['Rule2'] == 0].sample(n=int(rule_2.shape[0]*2), random_state=42)\n",
    "\n",
    "balanced_labels = pd.concat([rule_2, other_rules, useless])\n",
    "\n",
    "balanced_labels= balanced_labels[[\"Image_name\", \"Rule2\"]]\n",
    "\n",
    "balanced_labels.info()"
   ]
  },
  {
   "cell_type": "code",
   "execution_count": 13,
   "metadata": {
    "ExecuteTime": {
     "end_time": "2024-06-02T16:24:13.015160Z",
     "start_time": "2024-06-02T16:24:13.009488Z"
    }
   },
   "outputs": [],
   "source": [
    "balanced_labels.to_csv('../local_data/balanced_labels_2.csv', sep=';', index=False)"
   ]
  }
 ],
 "metadata": {
  "kernelspec": {
   "display_name": ".venv",
   "language": "python",
   "name": "python3"
  },
  "language_info": {
   "codemirror_mode": {
    "name": "ipython",
    "version": 3
   },
   "file_extension": ".py",
   "mimetype": "text/x-python",
   "name": "python",
   "nbconvert_exporter": "python",
   "pygments_lexer": "ipython3",
   "version": "3.11.9"
  }
 },
 "nbformat": 4,
 "nbformat_minor": 2
}
